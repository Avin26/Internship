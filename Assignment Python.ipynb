{
 "cells": [
  {
   "cell_type": "markdown",
   "id": "18228f30",
   "metadata": {},
   "source": [
    "1. C)%"
   ]
  },
  {
   "cell_type": "markdown",
   "id": "26063804",
   "metadata": {},
   "source": [
    "2. B) 0"
   ]
  },
  {
   "cell_type": "markdown",
   "id": "fa51c4ea",
   "metadata": {},
   "source": [
    "3. C) 24"
   ]
  },
  {
   "cell_type": "markdown",
   "id": "eb4c3e7d",
   "metadata": {},
   "source": [
    "4  A) 2"
   ]
  },
  {
   "cell_type": "markdown",
   "id": "2ce84ba1",
   "metadata": {},
   "source": [
    "5 D) 6"
   ]
  },
  {
   "cell_type": "markdown",
   "id": "3a3a396a",
   "metadata": {},
   "source": [
    "6. C) the finally block will be executed no matter if the try block raises an error or not."
   ]
  },
  {
   "cell_type": "markdown",
   "id": "5cbb7f81",
   "metadata": {},
   "source": [
    "7. A) It is used to raise an exception"
   ]
  },
  {
   "cell_type": "markdown",
   "id": "a0af8564",
   "metadata": {},
   "source": [
    "8. C) in defining a generator"
   ]
  },
  {
   "cell_type": "markdown",
   "id": "4deaa6ba",
   "metadata": {},
   "source": [
    "9. A) _abc C) abc2"
   ]
  },
  {
   "cell_type": "markdown",
   "id": "0905ff89",
   "metadata": {},
   "source": [
    "10 A) yield B) raise"
   ]
  },
  {
   "cell_type": "code",
   "execution_count": null,
   "id": "18814526",
   "metadata": {},
   "outputs": [],
   "source": [
    "11.\n",
    "## WAP to print the factorial of a number\n",
    "\n",
    "def factorial(n):\n",
    "    if(n>1):\n",
    "        return n*factorial(n-1)\n",
    "    else:\n",
    "        return 1\n",
    "    \n",
    "\n",
    "\n",
    "n = int(input(\"Enter a number \"))\n",
    "\n",
    "print(\"The factorial of a number is: \", factorial(n))\n",
    "\n"
   ]
  },
  {
   "cell_type": "code",
   "execution_count": null,
   "id": "d5c95ce6",
   "metadata": {},
   "outputs": [],
   "source": [
    "12.\n",
    "# WAP to find number is composite or prime\n",
    "\n",
    "\n",
    "import math # for using sqrt function\n",
    "\n",
    "def prime(n):\n",
    "    if n == 1:     \n",
    "        return False\n",
    "    for x in range(2, (int)(math.sqrt(n))+1):\n",
    "        if n % x == 0:\n",
    "            return False \n",
    "        return True\n",
    "    \n",
    "\n",
    "\n",
    "\n",
    "n = int(input(\"Enter a number\"))\n",
    "\n",
    "if prime(n):\n",
    "    print(n,\" is a prime number\") \n",
    "else:\n",
    "    print(n, \"is a composite number\")\n"
   ]
  },
  {
   "cell_type": "code",
   "execution_count": null,
   "id": "c4d40a0c",
   "metadata": {},
   "outputs": [],
   "source": [
    "13.\n",
    "# WAP to check whether a string is palindrome or not\n",
    "\n",
    "str = input(\"Enter a string\")\n",
    "\n",
    "def check_palindrome(str):\n",
    "    for x in range(0,(len(str)//2)+1):\n",
    "        if str[x] != str[last_value-1]:\n",
    "            return False\n",
    "        return True\n",
    "    \n",
    "\n",
    "if check_palindrome(str):\n",
    "    print(\"String is a Palindrome\")\n",
    "else:\n",
    "    print(\"String is not a palindrome\")\n",
    "    \n"
   ]
  },
  {
   "cell_type": "code",
   "execution_count": 46,
   "id": "d67a4015",
   "metadata": {},
   "outputs": [
    {
     "name": "stdout",
     "output_type": "stream",
     "text": [
      "Enter a side1 3.0\n",
      "Enter a side2 4.0\n",
      "The Hypotenuse of the right angled triangle is:  5.0\n"
     ]
    }
   ],
   "source": [
    "14.\n",
    "# WAP to get a third side of a right angled Triangke\n",
    "\n",
    "import math\n",
    "\n",
    "\n",
    "side1 = float(input(\"Enter a side1 \"))\n",
    "side2 = float(input(\"Enter a side2 \"))\n",
    "\n",
    "           \n",
    "hyp_side = math.sqrt(side1**2 + side2**2)\n",
    "print(\"The Hypotenuse of the right angled triangle is: \",hyp_side)           \n",
    "\n"
   ]
  },
  {
   "cell_type": "code",
   "execution_count": 58,
   "id": "9d2ff2ab",
   "metadata": {},
   "outputs": [
    {
     "name": "stdout",
     "output_type": "stream",
     "text": [
      "Enter a Stringavinashasdfghgfdsa\n",
      "{'a': 4, 'v': 1, 'i': 1, 'n': 1, 's': 3, 'h': 2, 'd': 2, 'f': 2, 'g': 2}\n"
     ]
    }
   ],
   "source": [
    "# WAP freq. of characters in a given string\n",
    "\n",
    "str = input(\"Enter a String\")\n",
    "\n",
    "dictionary = {}\n",
    "\n",
    "for x in str:\n",
    "    if x in dictionary:\n",
    "        dictionary[x] +=1\n",
    "    else:\n",
    "        dictionary[x] = 1\n",
    "        \n",
    "print(dictionary)"
   ]
  },
  {
   "cell_type": "code",
   "execution_count": null,
   "id": "98c318b0",
   "metadata": {},
   "outputs": [],
   "source": []
  }
 ],
 "metadata": {
  "kernelspec": {
   "display_name": "Python 3",
   "language": "python",
   "name": "python3"
  },
  "language_info": {
   "codemirror_mode": {
    "name": "ipython",
    "version": 3
   },
   "file_extension": ".py",
   "mimetype": "text/x-python",
   "name": "python",
   "nbconvert_exporter": "python",
   "pygments_lexer": "ipython3",
   "version": "3.8.8"
  }
 },
 "nbformat": 4,
 "nbformat_minor": 5
}
