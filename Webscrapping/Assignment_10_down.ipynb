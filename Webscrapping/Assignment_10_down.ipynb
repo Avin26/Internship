{
 "cells": [
  {
   "cell_type": "code",
   "execution_count": 1,
   "metadata": {
    "id": "4Rx26bhZl5Xp"
   },
   "outputs": [],
   "source": [
    "import requests\n",
    "from bs4 import BeautifulSoup"
   ]
  },
  {
   "cell_type": "code",
   "execution_count": 2,
   "metadata": {
    "colab": {
     "base_uri": "https://localhost:8080/"
    },
    "id": "zp-BSEzL1ys4",
    "outputId": "8fb9dba5-a775-4445-de99-ffb74337edfa"
   },
   "outputs": [
    {
     "data": {
      "text/plain": [
       "<Response [200]>"
      ]
     },
     "execution_count": 2,
     "metadata": {},
     "output_type": "execute_result"
    }
   ],
   "source": [
    "page = requests.get(\"https://www.bewakoof.com/women-tshirts?ga_q=tshirts\")\n",
    "page"
   ]
  },
  {
   "cell_type": "code",
   "execution_count": 5,
   "metadata": {},
   "outputs": [],
   "source": [
    "# scraping the product name\n",
    "product_name = [] # creating empty list\n",
    "for i in soup.find_all('div',class_=\"productCardDetail\")[:10]: \n",
    "    product_name.append(i.text)\n",
    "\n",
    "# scraping the product price   \n",
    "price = []\n",
    "for i in soup.find_all('span',class_=\"discountedPriceText\")[:10]: \n",
    "    price.append(i.text)\n",
    "    \n",
    "# scraping the image_url \n",
    "image_url = []\n",
    "for i in soup.find_all('img',class_=\"productImgTag\")[:10]: \n",
    "    image_url.append(i.get('src'))    "
   ]
  },
  {
   "cell_type": "code",
   "execution_count": 6,
   "metadata": {},
   "outputs": [
    {
     "name": "stdout",
     "output_type": "stream",
     "text": [
      "10 10 10\n"
     ]
    }
   ],
   "source": [
    "# checking the length \n",
    "print(len(product_name),len(price),len(image_url))"
   ]
  },
  {
   "cell_type": "code",
   "execution_count": 7,
   "metadata": {},
   "outputs": [
    {
     "data": {
      "text/html": [
       "<div>\n",
       "<style scoped>\n",
       "    .dataframe tbody tr th:only-of-type {\n",
       "        vertical-align: middle;\n",
       "    }\n",
       "\n",
       "    .dataframe tbody tr th {\n",
       "        vertical-align: top;\n",
       "    }\n",
       "\n",
       "    .dataframe thead th {\n",
       "        text-align: right;\n",
       "    }\n",
       "</style>\n",
       "<table border=\"1\" class=\"dataframe\">\n",
       "  <thead>\n",
       "    <tr style=\"text-align: right;\">\n",
       "      <th></th>\n",
       "      <th>Product_Name</th>\n",
       "      <th>Price</th>\n",
       "      <th>Image_url</th>\n",
       "    </tr>\n",
       "  </thead>\n",
       "  <tbody>\n",
       "    <tr>\n",
       "      <th>0</th>\n",
       "      <td>Matriarchy Begin Half Sleeve T-Shirt₹ 249899₹2...</td>\n",
       "      <td>₹ 249</td>\n",
       "      <td>https://images.bewakoof.com/t320/matriarchy-be...</td>\n",
       "    </tr>\n",
       "    <tr>\n",
       "      <th>1</th>\n",
       "      <td>Nope Lazy Boyfriend T-Shirt Meteor Grey₹ 39999...</td>\n",
       "      <td>₹ 399</td>\n",
       "      <td>https://images.bewakoof.com/t320/nope-lazy-boy...</td>\n",
       "    </tr>\n",
       "    <tr>\n",
       "      <th>2</th>\n",
       "      <td>Believe In Miracles Half Sleeve T-Shirt Bold R...</td>\n",
       "      <td>₹ 199</td>\n",
       "      <td>https://images.bewakoof.com/t320/believe-in-mi...</td>\n",
       "    </tr>\n",
       "    <tr>\n",
       "      <th>3</th>\n",
       "      <td>Dab Marshmello Half Sleeve T-Shirt₹ 149499₹129...</td>\n",
       "      <td>₹ 149</td>\n",
       "      <td>https://images.bewakoof.com/t320/dab-marshmell...</td>\n",
       "    </tr>\n",
       "    <tr>\n",
       "      <th>4</th>\n",
       "      <td>All We Have Half Sleeve T-Shirt Meteor Grey₹ 5...</td>\n",
       "      <td>₹ 549</td>\n",
       "      <td>https://images.bewakoof.com/t320/all-we-have-h...</td>\n",
       "    </tr>\n",
       "    <tr>\n",
       "      <th>5</th>\n",
       "      <td>Mickey 28 Half Sleeves T-Shirt (DL)₹ 199599₹17...</td>\n",
       "      <td>₹ 199</td>\n",
       "      <td>https://images.bewakoof.com/t320/mickey-28-hal...</td>\n",
       "    </tr>\n",
       "    <tr>\n",
       "      <th>6</th>\n",
       "      <td>Bounty Hunter Boyfriend T-Shirt₹ 199599₹179For...</td>\n",
       "      <td>₹ 199</td>\n",
       "      <td>https://images.bewakoof.com/t320/bounty-hunter...</td>\n",
       "    </tr>\n",
       "    <tr>\n",
       "      <th>7</th>\n",
       "      <td>Mickey Pop Block Half Sleeve Printed T-Shirt (...</td>\n",
       "      <td>₹ 199</td>\n",
       "      <td>https://images.bewakoof.com/t320/mickey-pop-bl...</td>\n",
       "    </tr>\n",
       "    <tr>\n",
       "      <th>8</th>\n",
       "      <td>Diagonal Friends Half Sleeves T-Shirt (FRL)₹ 1...</td>\n",
       "      <td>₹ 199</td>\n",
       "      <td>https://images.bewakoof.com/t320/diagonal-frie...</td>\n",
       "    </tr>\n",
       "    <tr>\n",
       "      <th>9</th>\n",
       "      <td>Classic Tj Logo Half Sleeve T-Shirt (TJL) Blac...</td>\n",
       "      <td>₹ 199</td>\n",
       "      <td>https://images.bewakoof.com/t320/classic-tj-lo...</td>\n",
       "    </tr>\n",
       "  </tbody>\n",
       "</table>\n",
       "</div>"
      ],
      "text/plain": [
       "                                        Product_Name  Price  \\\n",
       "0  Matriarchy Begin Half Sleeve T-Shirt₹ 249899₹2...  ₹ 249   \n",
       "1  Nope Lazy Boyfriend T-Shirt Meteor Grey₹ 39999...  ₹ 399   \n",
       "2  Believe In Miracles Half Sleeve T-Shirt Bold R...  ₹ 199   \n",
       "3  Dab Marshmello Half Sleeve T-Shirt₹ 149499₹129...  ₹ 149   \n",
       "4  All We Have Half Sleeve T-Shirt Meteor Grey₹ 5...  ₹ 549   \n",
       "5  Mickey 28 Half Sleeves T-Shirt (DL)₹ 199599₹17...  ₹ 199   \n",
       "6  Bounty Hunter Boyfriend T-Shirt₹ 199599₹179For...  ₹ 199   \n",
       "7  Mickey Pop Block Half Sleeve Printed T-Shirt (...  ₹ 199   \n",
       "8  Diagonal Friends Half Sleeves T-Shirt (FRL)₹ 1...  ₹ 199   \n",
       "9  Classic Tj Logo Half Sleeve T-Shirt (TJL) Blac...  ₹ 199   \n",
       "\n",
       "                                           Image_url  \n",
       "0  https://images.bewakoof.com/t320/matriarchy-be...  \n",
       "1  https://images.bewakoof.com/t320/nope-lazy-boy...  \n",
       "2  https://images.bewakoof.com/t320/believe-in-mi...  \n",
       "3  https://images.bewakoof.com/t320/dab-marshmell...  \n",
       "4  https://images.bewakoof.com/t320/all-we-have-h...  \n",
       "5  https://images.bewakoof.com/t320/mickey-28-hal...  \n",
       "6  https://images.bewakoof.com/t320/bounty-hunter...  \n",
       "7  https://images.bewakoof.com/t320/mickey-pop-bl...  \n",
       "8  https://images.bewakoof.com/t320/diagonal-frie...  \n",
       "9  https://images.bewakoof.com/t320/classic-tj-lo...  "
      ]
     },
     "execution_count": 7,
     "metadata": {},
     "output_type": "execute_result"
    }
   ],
   "source": [
    "# Creating data frame \n",
    "import pandas as pd\n",
    "df = pd.DataFrame({'Product_Name':product_name,'Price':price,'Image_url':image_url})\n",
    "df"
   ]
  },
  {
   "cell_type": "code",
   "execution_count": null,
   "metadata": {},
   "outputs": [],
   "source": []
  }
 ],
 "metadata": {
  "colab": {
   "name": "Assignment 10.ipynb",
   "provenance": []
  },
  "kernelspec": {
   "display_name": "Python 3",
   "language": "python",
   "name": "python3"
  },
  "language_info": {
   "codemirror_mode": {
    "name": "ipython",
    "version": 3
   },
   "file_extension": ".py",
   "mimetype": "text/x-python",
   "name": "python",
   "nbconvert_exporter": "python",
   "pygments_lexer": "ipython3",
   "version": "3.8.8"
  }
 },
 "nbformat": 4,
 "nbformat_minor": 1
}
