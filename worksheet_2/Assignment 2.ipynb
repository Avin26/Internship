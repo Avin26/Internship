{
 "cells": [
  {
   "cell_type": "markdown",
   "id": "ae9972ec",
   "metadata": {},
   "source": [
    "## Assignment 2"
   ]
  },
  {
   "cell_type": "markdown",
   "id": "cfd8f057",
   "metadata": {},
   "source": [
    "## scrape data for “Data Scientist” Job position in “Bangalore” location. You\n",
    "have to scrape the job-title, job-location, company_name. You have to scrape first 10 jobs data."
   ]
  },
  {
   "cell_type": "markdown",
   "id": "347c37b8",
   "metadata": {},
   "source": [
    "Q2 .. #"
   ]
  },
  {
   "cell_type": "code",
   "execution_count": 38,
   "id": "4787e018",
   "metadata": {},
   "outputs": [],
   "source": [
    "# Let's import all required libraries\n",
    "import selenium\n",
    "from selenium import webdriver\n",
    "import pandas as pd\n",
    "import warnings\n",
    "warnings.filterwarnings('ignore')"
   ]
  },
  {
   "cell_type": "code",
   "execution_count": 39,
   "id": "4e658aba",
   "metadata": {},
   "outputs": [],
   "source": [
    "# Let's first connect to the web driver\n",
    "driver = webdriver.Chrome(r\"C:\\Users\\avina\\Desktop\\Web Driver\\chromedriver_win32\\chromedriver.exe\")"
   ]
  },
  {
   "cell_type": "code",
   "execution_count": 40,
   "id": "da578003",
   "metadata": {
    "scrolled": false
   },
   "outputs": [],
   "source": [
    "url = 'https://www.naukri.com/'\n",
    "driver.get(url)"
   ]
  },
  {
   "cell_type": "code",
   "execution_count": 41,
   "id": "48170fe1",
   "metadata": {},
   "outputs": [],
   "source": [
    "# finding web element for search job using id\n",
    "search_job = driver.find_element_by_xpath('/html/body/div/div[2]/div[3]/div/div/div[1]/div/div/div/input')\n",
    "search_job\n",
    "\n",
    "# write on search bar\n",
    "search_job.send_keys('Data Scientist')"
   ]
  },
  {
   "cell_type": "code",
   "execution_count": 12,
   "id": "f701136a",
   "metadata": {},
   "outputs": [],
   "source": [
    "## /html/body/div/div[2]/div[3]/div/div/div[6]"
   ]
  },
  {
   "cell_type": "code",
   "execution_count": null,
   "id": "6bfefc56",
   "metadata": {},
   "outputs": [],
   "source": [
    "# /html/body/div/div[2]/div[3]/div/div/div[3]/div/div/div/input"
   ]
  },
  {
   "cell_type": "code",
   "execution_count": 42,
   "id": "85aa1a09",
   "metadata": {},
   "outputs": [],
   "source": [
    "# finding web element for search location bar using abssolute xpath\n",
    "search_locn = driver.find_element_by_xpath('/html/body/div/div[2]/div[3]/div/div/div[3]/div/div/div/input')\n",
    "\n"
   ]
  },
  {
   "cell_type": "code",
   "execution_count": 43,
   "id": "dc60a0ce",
   "metadata": {},
   "outputs": [],
   "source": [
    "# finding web element for job location bar\n",
    "search_locn.send_keys('Bangalore')"
   ]
  },
  {
   "cell_type": "code",
   "execution_count": 23,
   "id": "db06f685",
   "metadata": {},
   "outputs": [],
   "source": [
    "#search_locn.click()"
   ]
  },
  {
   "cell_type": "code",
   "execution_count": 44,
   "id": "c9cb7c3b",
   "metadata": {},
   "outputs": [],
   "source": [
    "# clicking using absolute xpath function\n",
    "search_btn = driver.find_element_by_xpath('/html/body/div/div[2]/div[3]/div/div/div[6]')"
   ]
  },
  {
   "cell_type": "code",
   "execution_count": 45,
   "id": "0f409f92",
   "metadata": {},
   "outputs": [],
   "source": [
    "search_btn.click()"
   ]
  },
  {
   "cell_type": "markdown",
   "id": "8466fa15",
   "metadata": {},
   "source": [
    "## Now let's first create 4 empty lists. In these lists the data will be stored while scrapping"
   ]
  },
  {
   "cell_type": "markdown",
   "id": "cd1257cf",
   "metadata": {},
   "source": [
    "## Extracting job titles"
   ]
  },
  {
   "cell_type": "code",
   "execution_count": 46,
   "id": "51b2f836",
   "metadata": {},
   "outputs": [
    {
     "data": {
      "text/plain": [
       "20"
      ]
     },
     "execution_count": 46,
     "metadata": {},
     "output_type": "execute_result"
    }
   ],
   "source": [
    "# Let's extract all web elements having job titles\n",
    "title_tags = driver.find_elements_by_xpath('//a[@class=\"title fw500 ellipsis\"]')\n",
    "len(title_tags)"
   ]
  },
  {
   "cell_type": "code",
   "execution_count": 47,
   "id": "647199d7",
   "metadata": {},
   "outputs": [
    {
     "data": {
      "text/plain": [
       "20"
      ]
     },
     "execution_count": 47,
     "metadata": {},
     "output_type": "execute_result"
    }
   ],
   "source": [
    "# Now the text of job title is oinside the web elements extracted above\n",
    "# so we will run a for loops to iterate over the tags and will extract text from title tags\n",
    "\n",
    "job_titles = []\n",
    "\n",
    "for i in title_tags:\n",
    "    job_titles.append(i.text)\n",
    "len(job_titles)\n",
    "#job_titles[0:2]"
   ]
  },
  {
   "cell_type": "markdown",
   "id": "bf50570b",
   "metadata": {},
   "source": [
    "## Extracting comapny Name"
   ]
  },
  {
   "cell_type": "code",
   "execution_count": 48,
   "id": "7a77ee25",
   "metadata": {},
   "outputs": [
    {
     "data": {
      "text/plain": [
       "20"
      ]
     },
     "execution_count": 48,
     "metadata": {},
     "output_type": "execute_result"
    }
   ],
   "source": [
    "# Let's extract all web elements having company name\n",
    "company_tags = driver.find_elements_by_xpath('//a[@class=\"subTitle ellipsis fleft\"]')\n",
    "len(company_tags)"
   ]
  },
  {
   "cell_type": "code",
   "execution_count": 49,
   "id": "5a71095d",
   "metadata": {},
   "outputs": [
    {
     "data": {
      "text/plain": [
       "20"
      ]
     },
     "execution_count": 49,
     "metadata": {},
     "output_type": "execute_result"
    }
   ],
   "source": [
    "# Geeting the company name\n",
    "\n",
    "company_titles = []\n",
    "\n",
    "for i in company_tags:\n",
    "    company_titles.append(i.text)\n",
    "len(company_titles)\n",
    "#company_titles[0:2]"
   ]
  },
  {
   "cell_type": "markdown",
   "id": "9d1371c8",
   "metadata": {},
   "source": [
    "## Extracting experience"
   ]
  },
  {
   "cell_type": "code",
   "execution_count": 50,
   "id": "162e5409",
   "metadata": {},
   "outputs": [
    {
     "data": {
      "text/plain": [
       "20"
      ]
     },
     "execution_count": 50,
     "metadata": {},
     "output_type": "execute_result"
    }
   ],
   "source": [
    "## Let's extract all elements having experience using parent tag\n",
    "exp_tags = driver.find_elements_by_xpath('//li[@class=\"fleft grey-text br2 placeHolderLi experience\"]')\n",
    "len(exp_tags)"
   ]
  },
  {
   "cell_type": "code",
   "execution_count": 51,
   "id": "e27d31ba",
   "metadata": {},
   "outputs": [
    {
     "data": {
      "text/plain": [
       "20"
      ]
     },
     "execution_count": 51,
     "metadata": {},
     "output_type": "execute_result"
    }
   ],
   "source": [
    "experience = []\n",
    "\n",
    "for i in exp_tags:\n",
    "    experience.append(i.text)\n",
    "len(experience)\n",
    "#experience[0:2]"
   ]
  },
  {
   "cell_type": "markdown",
   "id": "d9dbce7d",
   "metadata": {},
   "source": [
    "## Extracting location"
   ]
  },
  {
   "cell_type": "code",
   "execution_count": 52,
   "id": "78cab8c7",
   "metadata": {},
   "outputs": [
    {
     "data": {
      "text/plain": [
       "20"
      ]
     },
     "execution_count": 52,
     "metadata": {},
     "output_type": "execute_result"
    }
   ],
   "source": [
    "locn_tags = driver.find_elements_by_xpath('//li[@class=\"fleft grey-text br2 placeHolderLi location\"]')\n",
    "len(locn_tags)"
   ]
  },
  {
   "cell_type": "code",
   "execution_count": 53,
   "id": "fa9f4867",
   "metadata": {},
   "outputs": [
    {
     "data": {
      "text/plain": [
       "20"
      ]
     },
     "execution_count": 53,
     "metadata": {},
     "output_type": "execute_result"
    }
   ],
   "source": [
    "location = []\n",
    "for i in locn_tags:\n",
    "    location.append(i.text)\n",
    "len(location)\n",
    "##location[0:2]"
   ]
  },
  {
   "cell_type": "code",
   "execution_count": 54,
   "id": "62abc3e3",
   "metadata": {},
   "outputs": [
    {
     "data": {
      "text/plain": [
       "(20, 20, 20, 20)"
      ]
     },
     "execution_count": 54,
     "metadata": {},
     "output_type": "execute_result"
    }
   ],
   "source": [
    "len(job_titles),len(company_titles),len(experience),len(location)"
   ]
  },
  {
   "cell_type": "code",
   "execution_count": 55,
   "id": "6587d15b",
   "metadata": {
    "scrolled": true
   },
   "outputs": [
    {
     "data": {
      "text/html": [
       "<div>\n",
       "<style scoped>\n",
       "    .dataframe tbody tr th:only-of-type {\n",
       "        vertical-align: middle;\n",
       "    }\n",
       "\n",
       "    .dataframe tbody tr th {\n",
       "        vertical-align: top;\n",
       "    }\n",
       "\n",
       "    .dataframe thead th {\n",
       "        text-align: right;\n",
       "    }\n",
       "</style>\n",
       "<table border=\"1\" class=\"dataframe\">\n",
       "  <thead>\n",
       "    <tr style=\"text-align: right;\">\n",
       "      <th></th>\n",
       "      <th>Job title</th>\n",
       "      <th>Company</th>\n",
       "      <th>Experience</th>\n",
       "      <th>Location</th>\n",
       "    </tr>\n",
       "  </thead>\n",
       "  <tbody>\n",
       "    <tr>\n",
       "      <th>0</th>\n",
       "      <td>Data Scientist: Advanced Analytics</td>\n",
       "      <td>IBM</td>\n",
       "      <td>5-10 Yrs</td>\n",
       "      <td>Bangalore/Bengaluru</td>\n",
       "    </tr>\n",
       "    <tr>\n",
       "      <th>1</th>\n",
       "      <td>Data Scientist: Advanced Analytics</td>\n",
       "      <td>IBM</td>\n",
       "      <td>5-7 Yrs</td>\n",
       "      <td>Bengaluru/Bangalore</td>\n",
       "    </tr>\n",
       "    <tr>\n",
       "      <th>2</th>\n",
       "      <td>Sr . Data Scientist</td>\n",
       "      <td>Harman Connected Services Corporation India Pvt.</td>\n",
       "      <td>8-10 Yrs</td>\n",
       "      <td>Bangalore/Bengaluru</td>\n",
       "    </tr>\n",
       "    <tr>\n",
       "      <th>3</th>\n",
       "      <td>Senior Data Scientist</td>\n",
       "      <td>Slice</td>\n",
       "      <td>3-7 Yrs</td>\n",
       "      <td>Bangalore/Bengaluru</td>\n",
       "    </tr>\n",
       "    <tr>\n",
       "      <th>4</th>\n",
       "      <td>Sr Data Scientist</td>\n",
       "      <td>Siemens</td>\n",
       "      <td>0-6 Yrs</td>\n",
       "      <td>Bangalore/Bengaluru</td>\n",
       "    </tr>\n",
       "    <tr>\n",
       "      <th>5</th>\n",
       "      <td>Senior Data Scientist</td>\n",
       "      <td>Dell</td>\n",
       "      <td>5-8 Yrs</td>\n",
       "      <td>Bangalore/Bengaluru</td>\n",
       "    </tr>\n",
       "    <tr>\n",
       "      <th>6</th>\n",
       "      <td>Senior Data Scientist</td>\n",
       "      <td>Dell</td>\n",
       "      <td>8-12 Yrs</td>\n",
       "      <td>Bangalore/Bengaluru</td>\n",
       "    </tr>\n",
       "    <tr>\n",
       "      <th>7</th>\n",
       "      <td>Senior Data Scientist - Python/Machine Learnin...</td>\n",
       "      <td>Altimax Business Solutions</td>\n",
       "      <td>4-9 Yrs</td>\n",
       "      <td>Mumbai, Hyderabad/Secunderabad, Pune, Bangalor...</td>\n",
       "    </tr>\n",
       "    <tr>\n",
       "      <th>8</th>\n",
       "      <td>Senior/Lead Data Scientist - (Revenue Management)</td>\n",
       "      <td>o9 Solutions Management India Private Limited</td>\n",
       "      <td>4-9 Yrs</td>\n",
       "      <td>Bangalore/Bengaluru</td>\n",
       "    </tr>\n",
       "    <tr>\n",
       "      <th>9</th>\n",
       "      <td>Senior/Lead - Data Scientist (Supply Chain)</td>\n",
       "      <td>o9 Solutions Management India Private Limited</td>\n",
       "      <td>4-9 Yrs</td>\n",
       "      <td>Bangalore/Bengaluru</td>\n",
       "    </tr>\n",
       "  </tbody>\n",
       "</table>\n",
       "</div>"
      ],
      "text/plain": [
       "                                           Job title  \\\n",
       "0                 Data Scientist: Advanced Analytics   \n",
       "1                 Data Scientist: Advanced Analytics   \n",
       "2                                Sr . Data Scientist   \n",
       "3                              Senior Data Scientist   \n",
       "4                                  Sr Data Scientist   \n",
       "5                              Senior Data Scientist   \n",
       "6                              Senior Data Scientist   \n",
       "7  Senior Data Scientist - Python/Machine Learnin...   \n",
       "8  Senior/Lead Data Scientist - (Revenue Management)   \n",
       "9        Senior/Lead - Data Scientist (Supply Chain)   \n",
       "\n",
       "                                            Company Experience  \\\n",
       "0                                               IBM   5-10 Yrs   \n",
       "1                                               IBM    5-7 Yrs   \n",
       "2  Harman Connected Services Corporation India Pvt.   8-10 Yrs   \n",
       "3                                             Slice    3-7 Yrs   \n",
       "4                                           Siemens    0-6 Yrs   \n",
       "5                                              Dell    5-8 Yrs   \n",
       "6                                              Dell   8-12 Yrs   \n",
       "7                        Altimax Business Solutions    4-9 Yrs   \n",
       "8     o9 Solutions Management India Private Limited    4-9 Yrs   \n",
       "9     o9 Solutions Management India Private Limited    4-9 Yrs   \n",
       "\n",
       "                                            Location  \n",
       "0                                Bangalore/Bengaluru  \n",
       "1                                Bengaluru/Bangalore  \n",
       "2                                Bangalore/Bengaluru  \n",
       "3                                Bangalore/Bengaluru  \n",
       "4                                Bangalore/Bengaluru  \n",
       "5                                Bangalore/Bengaluru  \n",
       "6                                Bangalore/Bengaluru  \n",
       "7  Mumbai, Hyderabad/Secunderabad, Pune, Bangalor...  \n",
       "8                                Bangalore/Bengaluru  \n",
       "9                                Bangalore/Bengaluru  "
      ]
     },
     "execution_count": 55,
     "metadata": {},
     "output_type": "execute_result"
    }
   ],
   "source": [
    "## getting the first 10 elements\n",
    "\n",
    "jobs = pd.DataFrame()\n",
    "\n",
    "jobs['Job title'] = job_titles[0:10]\n",
    "jobs['Company']   = company_titles[0:10]\n",
    "jobs['Experience'] = experience[0:10]\n",
    "jobs['Location']   = location[0:10]\n",
    "\n",
    "jobs"
   ]
  },
  {
   "cell_type": "code",
   "execution_count": null,
   "id": "052abb19",
   "metadata": {},
   "outputs": [],
   "source": []
  }
 ],
 "metadata": {
  "kernelspec": {
   "display_name": "Python 3",
   "language": "python",
   "name": "python3"
  },
  "language_info": {
   "codemirror_mode": {
    "name": "ipython",
    "version": 3
   },
   "file_extension": ".py",
   "mimetype": "text/x-python",
   "name": "python",
   "nbconvert_exporter": "python",
   "pygments_lexer": "ipython3",
   "version": "3.8.8"
  }
 },
 "nbformat": 4,
 "nbformat_minor": 5
}
