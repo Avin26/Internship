{
 "cells": [
  {
   "cell_type": "code",
   "execution_count": 27,
   "id": "733984ea",
   "metadata": {},
   "outputs": [],
   "source": [
    "# Let's import all required libraries\n",
    "import selenium\n",
    "from selenium import webdriver\n",
    "import pandas as pd\n",
    "import warnings\n",
    "warnings.filterwarnings('ignore')\n",
    "\n",
    "\n",
    "# Let's first connect to the web driver\n",
    "driver = webdriver.Chrome(r\"C:\\Users\\avina\\Desktop\\Web Driver\\chromedriver_win32\\chromedriver.exe\")\n",
    "\n",
    "url = 'https://www.ambitionbox.com/'\n",
    "driver.get(url)"
   ]
  },
  {
   "cell_type": "code",
   "execution_count": 31,
   "id": "50d7796f",
   "metadata": {},
   "outputs": [],
   "source": [
    "# selecting the job section\n",
    "jobs_link = driver.find_element_by_xpath('/html/body/div[1]/nav/nav/a[6]')\n",
    "jobs_link.click()\n"
   ]
  },
  {
   "cell_type": "code",
   "execution_count": 32,
   "id": "2961ce99",
   "metadata": {},
   "outputs": [],
   "source": [
    "# selecting the input and sending keys\n",
    "search_input = driver.find_element_by_xpath('/html/body/div/div/div/div[2]/div[1]/div/div/div/div/span/input')\n",
    "search_input.send_keys('Data Scientist')"
   ]
  },
  {
   "cell_type": "code",
   "execution_count": 33,
   "id": "d9e4717f",
   "metadata": {},
   "outputs": [],
   "source": [
    "# clicking the search button\n",
    "search_btn = driver.find_element_by_xpath('/html/body/div/div/div/div[2]/div[1]/div/div/div/button')\n",
    "search_btn.click()"
   ]
  },
  {
   "cell_type": "code",
   "execution_count": 34,
   "id": "44d9b995",
   "metadata": {},
   "outputs": [],
   "source": [
    "# selecting the location\n",
    "location_input = driver.find_element_by_xpath('/html/body/div/div/div/div[2]/div[2]/div[1]/div/div/div/div[2]/div[1]/p')\n",
    "location_input.click()"
   ]
  },
  {
   "cell_type": "code",
   "execution_count": 35,
   "id": "761a4896",
   "metadata": {},
   "outputs": [],
   "source": [
    "# searching location and sending noida\n",
    "search_location = driver.find_element_by_xpath('/html/body/div/div/div/div[2]/div[2]/div[1]/div/div/div/div[2]/div[2]/div/div[2]/input')\n",
    "search_location.send_keys('Noida')"
   ]
  },
  {
   "cell_type": "code",
   "execution_count": 36,
   "id": "a9283501",
   "metadata": {},
   "outputs": [],
   "source": [
    "# selecting the desired location which is noida\n",
    "selecting_location = driver.find_element_by_xpath('/html/body/div/div/div/div[2]/div[2]/div[1]/div/div/div/div[2]/div[2]/div/div[3]/div[1]/div[1]/div/label')\n",
    "selecting_location.click()"
   ]
  },
  {
   "cell_type": "code",
   "execution_count": 37,
   "id": "aba7b647",
   "metadata": {},
   "outputs": [
    {
     "data": {
      "text/plain": [
       "['HCL',\n",
       " 'Jubilant Foodworks Limited',\n",
       " 'Ameriprise Financial',\n",
       " 'Paytm',\n",
       " 'CHT Sapiense',\n",
       " 'CHT Sapiense',\n",
       " 'GI Group',\n",
       " 'GI Group',\n",
       " 'GI Group',\n",
       " 'Cargoflash']"
      ]
     },
     "execution_count": 37,
     "metadata": {},
     "output_type": "execute_result"
    }
   ],
   "source": [
    "# selecting the description from Ist page\n",
    "#p\n",
    "company_tags = driver.find_elements_by_xpath('//p[@class=\"company body-medium\"]')\n",
    "\n",
    "company_name = [] # and storing it into empty list\n",
    "\n",
    "for i in company_tags:\n",
    "        company_name.append(i.get_attribute(\"title\"))\n",
    "#aria_label = stars_list.find_element_by_css_selector('span').get_attribute(\"aria-label\")\n",
    "#aria_label\n",
    "company_name"
   ]
  },
  {
   "cell_type": "code",
   "execution_count": null,
   "id": "14b397a2",
   "metadata": {},
   "outputs": [],
   "source": [
    "# selecting no.of days ad was posted\n",
    "\n",
    "days_ago = driver.find_elements_by_xpath(('//span[@class=\"body-small-l\"]'))\n",
    "len(days_ago)"
   ]
  },
  {
   "cell_type": "code",
   "execution_count": 40,
   "id": "b24e846c",
   "metadata": {
    "scrolled": true
   },
   "outputs": [
    {
     "data": {
      "text/plain": [
       "['2d ago',\n",
       " 'via hirist.com',\n",
       " '2d ago',\n",
       " 'via naukri.com',\n",
       " '4d ago',\n",
       " 'via naukri.com',\n",
       " '10d ago',\n",
       " 'via naukri.com',\n",
       " '11d ago',\n",
       " 'via iimjobs.com',\n",
       " '12d ago',\n",
       " 'via iimjobs.com',\n",
       " '23d ago',\n",
       " 'via iimjobs.com',\n",
       " '23d ago',\n",
       " 'via iimjobs.com',\n",
       " '23d ago',\n",
       " 'via iimjobs.com',\n",
       " '1d ago',\n",
       " 'via hirist.com']"
      ]
     },
     "execution_count": 40,
     "metadata": {},
     "output_type": "execute_result"
    }
   ],
   "source": [
    "#body-small-l\n",
    "days_ago = driver.find_elements_by_xpath(('//span[@class=\"body-small-l\"]'))\n",
    "\n",
    "temp_days_ago = [] # tempary list for holding data\n",
    "for i in range(len(days_ago)):\n",
    "    temp_days_ago.append((days_ago[i]).text)\n",
    "    #print(x.text)\n",
    "temp_days_ago   "
   ]
  },
  {
   "cell_type": "code",
   "execution_count": 41,
   "id": "1842be99",
   "metadata": {},
   "outputs": [],
   "source": [
    "cleaned_days = temp_days_ago[::2]"
   ]
  },
  {
   "cell_type": "code",
   "execution_count": 42,
   "id": "977afa6d",
   "metadata": {},
   "outputs": [
    {
     "data": {
      "text/plain": [
       "['2d ago',\n",
       " '2d ago',\n",
       " '4d ago',\n",
       " '10d ago',\n",
       " '11d ago',\n",
       " '12d ago',\n",
       " '23d ago',\n",
       " '23d ago',\n",
       " '23d ago',\n",
       " '1d ago']"
      ]
     },
     "execution_count": 42,
     "metadata": {},
     "output_type": "execute_result"
    }
   ],
   "source": [
    "cleaned_days"
   ]
  },
  {
   "cell_type": "code",
   "execution_count": 43,
   "id": "0381c57e",
   "metadata": {},
   "outputs": [
    {
     "data": {
      "text/plain": [
       "['3.8', '3.8', '3.9', '4.0', '3.7', '3.8', '3.8', '4.1', '4.1', '4.1', '3.8']"
      ]
     },
     "execution_count": 43,
     "metadata": {},
     "output_type": "execute_result"
    }
   ],
   "source": [
    "# Getting the rating\n",
    "rating = driver.find_elements_by_xpath(('//div[@class=\"rating-wrapper\"]/a/span'))\n",
    "\n",
    "rating_temp = []\n",
    "for i in range(len(rating)):\n",
    "    rating_temp.append((rating[i]).text)\n",
    "rating_temp"
   ]
  },
  {
   "cell_type": "code",
   "execution_count": 44,
   "id": "d0de2f74",
   "metadata": {},
   "outputs": [],
   "source": [
    "cleaned_rating = rating_temp[1::]"
   ]
  },
  {
   "cell_type": "code",
   "execution_count": 45,
   "id": "5e453205",
   "metadata": {},
   "outputs": [
    {
     "data": {
      "text/html": [
       "<div>\n",
       "<style scoped>\n",
       "    .dataframe tbody tr th:only-of-type {\n",
       "        vertical-align: middle;\n",
       "    }\n",
       "\n",
       "    .dataframe tbody tr th {\n",
       "        vertical-align: top;\n",
       "    }\n",
       "\n",
       "    .dataframe thead th {\n",
       "        text-align: right;\n",
       "    }\n",
       "</style>\n",
       "<table border=\"1\" class=\"dataframe\">\n",
       "  <thead>\n",
       "    <tr style=\"text-align: right;\">\n",
       "      <th></th>\n",
       "      <th>Company</th>\n",
       "      <th>No_of_Days_ago</th>\n",
       "      <th>Rating</th>\n",
       "    </tr>\n",
       "  </thead>\n",
       "  <tbody>\n",
       "    <tr>\n",
       "      <th>0</th>\n",
       "      <td>HCL</td>\n",
       "      <td>2d ago</td>\n",
       "      <td>3.8</td>\n",
       "    </tr>\n",
       "    <tr>\n",
       "      <th>1</th>\n",
       "      <td>Jubilant Foodworks Limited</td>\n",
       "      <td>2d ago</td>\n",
       "      <td>3.9</td>\n",
       "    </tr>\n",
       "    <tr>\n",
       "      <th>2</th>\n",
       "      <td>Ameriprise Financial</td>\n",
       "      <td>4d ago</td>\n",
       "      <td>4.0</td>\n",
       "    </tr>\n",
       "    <tr>\n",
       "      <th>3</th>\n",
       "      <td>Paytm</td>\n",
       "      <td>10d ago</td>\n",
       "      <td>3.7</td>\n",
       "    </tr>\n",
       "    <tr>\n",
       "      <th>4</th>\n",
       "      <td>CHT Sapiense</td>\n",
       "      <td>11d ago</td>\n",
       "      <td>3.8</td>\n",
       "    </tr>\n",
       "    <tr>\n",
       "      <th>5</th>\n",
       "      <td>CHT Sapiense</td>\n",
       "      <td>12d ago</td>\n",
       "      <td>3.8</td>\n",
       "    </tr>\n",
       "    <tr>\n",
       "      <th>6</th>\n",
       "      <td>GI Group</td>\n",
       "      <td>23d ago</td>\n",
       "      <td>4.1</td>\n",
       "    </tr>\n",
       "    <tr>\n",
       "      <th>7</th>\n",
       "      <td>GI Group</td>\n",
       "      <td>23d ago</td>\n",
       "      <td>4.1</td>\n",
       "    </tr>\n",
       "    <tr>\n",
       "      <th>8</th>\n",
       "      <td>GI Group</td>\n",
       "      <td>23d ago</td>\n",
       "      <td>4.1</td>\n",
       "    </tr>\n",
       "    <tr>\n",
       "      <th>9</th>\n",
       "      <td>Cargoflash</td>\n",
       "      <td>1d ago</td>\n",
       "      <td>3.8</td>\n",
       "    </tr>\n",
       "  </tbody>\n",
       "</table>\n",
       "</div>"
      ],
      "text/plain": [
       "                      Company No_of_Days_ago Rating\n",
       "0                         HCL         2d ago    3.8\n",
       "1  Jubilant Foodworks Limited         2d ago    3.9\n",
       "2        Ameriprise Financial         4d ago    4.0\n",
       "3                       Paytm        10d ago    3.7\n",
       "4                CHT Sapiense        11d ago    3.8\n",
       "5                CHT Sapiense        12d ago    3.8\n",
       "6                    GI Group        23d ago    4.1\n",
       "7                    GI Group        23d ago    4.1\n",
       "8                    GI Group        23d ago    4.1\n",
       "9                  Cargoflash         1d ago    3.8"
      ]
     },
     "execution_count": 45,
     "metadata": {},
     "output_type": "execute_result"
    }
   ],
   "source": [
    "## getting the first 10 elements\n",
    "\n",
    "jobs = pd.DataFrame()\n",
    "\n",
    "#jobs['Job title'] = job_titles[0:10]\n",
    "jobs['Company']   = company_name\n",
    "jobs['No_of_Days_ago'] = cleaned_days\n",
    "jobs['Rating']   = cleaned_rating\n",
    "\n",
    "jobs"
   ]
  }
 ],
 "metadata": {
  "kernelspec": {
   "display_name": "Python 3",
   "language": "python",
   "name": "python3"
  },
  "language_info": {
   "codemirror_mode": {
    "name": "ipython",
    "version": 3
   },
   "file_extension": ".py",
   "mimetype": "text/x-python",
   "name": "python",
   "nbconvert_exporter": "python",
   "pygments_lexer": "ipython3",
   "version": "3.8.8"
  }
 },
 "nbformat": 4,
 "nbformat_minor": 5
}
