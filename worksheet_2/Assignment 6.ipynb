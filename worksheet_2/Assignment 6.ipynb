{
 "cells": [
  {
   "cell_type": "code",
   "execution_count": 57,
   "id": "e40eb29e",
   "metadata": {},
   "outputs": [],
   "source": [
    "# Let's import all required libraries\n",
    "import selenium\n",
    "from selenium import webdriver\n",
    "import pandas as pd\n",
    "import warnings\n",
    "warnings.filterwarnings('ignore')\n",
    "\n",
    "\n",
    "# Let's first connect to the web driver\n",
    "driver = webdriver.Chrome(r\"C:\\Users\\avina\\Desktop\\Web Driver\\chromedriver_win32\\chromedriver.exe\")\n",
    "\n",
    "url = 'http://www.flipkart.com'\n",
    "driver.get(url)"
   ]
  },
  {
   "cell_type": "code",
   "execution_count": 58,
   "id": "b21845cd",
   "metadata": {},
   "outputs": [],
   "source": [
    "# exiting the pop up\n",
    "\n",
    "exit_pop_up = driver.find_element_by_xpath('/html/body/div[2]/div/div/button')\n",
    "exit_pop_up.click()"
   ]
  },
  {
   "cell_type": "code",
   "execution_count": 59,
   "id": "930bb22b",
   "metadata": {},
   "outputs": [],
   "source": [
    "# selecting the search bar and sending keys\n",
    "search_bar = driver.find_element_by_xpath('/html/body/div[1]/div/div[1]/div[1]/div[2]/div[2]/form/div/div/input')\n",
    "search_bar.send_keys('sneakers')"
   ]
  },
  {
   "cell_type": "code",
   "execution_count": 60,
   "id": "0202ac38",
   "metadata": {},
   "outputs": [],
   "source": [
    "# clicking the search btn\n",
    "search_btn = driver.find_element_by_xpath('/html/body/div[1]/div/div[1]/div[1]/div[2]/div[2]/form/div/button')\n",
    "search_btn.click()"
   ]
  },
  {
   "cell_type": "markdown",
   "id": "afeb2ebd",
   "metadata": {},
   "source": [
    "# Selecting data from Ist page"
   ]
  },
  {
   "cell_type": "code",
   "execution_count": 67,
   "id": "cf6e698d",
   "metadata": {},
   "outputs": [
    {
     "data": {
      "text/plain": [
       "40"
      ]
     },
     "execution_count": 67,
     "metadata": {},
     "output_type": "execute_result"
    }
   ],
   "source": [
    "\n",
    "#selecting the brand Name\n",
    "Brand = driver.find_elements_by_xpath('//div[@class=\"_2WkVRV\"]')\n",
    "\n",
    "\n",
    "brand_name = [] # brand name empty list\n",
    "for i in Brand:\n",
    "    brand_name.append(i.text)\n",
    "len(brand_name)"
   ]
  },
  {
   "cell_type": "code",
   "execution_count": 66,
   "id": "f9821adc",
   "metadata": {},
   "outputs": [
    {
     "data": {
      "text/plain": [
       "40"
      ]
     },
     "execution_count": 66,
     "metadata": {},
     "output_type": "execute_result"
    }
   ],
   "source": [
    "len(brand_name)"
   ]
  },
  {
   "cell_type": "code",
   "execution_count": 70,
   "id": "725710bf",
   "metadata": {},
   "outputs": [
    {
     "data": {
      "text/plain": [
       "40"
      ]
     },
     "execution_count": 70,
     "metadata": {},
     "output_type": "execute_result"
    }
   ],
   "source": [
    "# selecting Brand Description\n",
    "\n",
    "\n",
    "brand_description = driver.find_elements_by_class_name('IRpwTa')\n",
    "\n",
    "\n",
    "\n",
    "# Creating a list of description list of brand \n",
    "brand_desc = []\n",
    "for i in range(len(brand_description)):\n",
    "    brand_desc.append((brand_description[i].get_attribute(\"title\")))\n",
    "    #brans_desc.append(i.get_attribute(\"title\"))\n",
    "len(brand_desc)"
   ]
  },
  {
   "cell_type": "code",
   "execution_count": 71,
   "id": "73ab2796",
   "metadata": {},
   "outputs": [
    {
     "data": {
      "text/plain": [
       "40"
      ]
     },
     "execution_count": 71,
     "metadata": {},
     "output_type": "execute_result"
    }
   ],
   "source": [
    "# selecting the Brand Prices\n",
    "Brand_prices = driver.find_elements_by_xpath('//div[@class=\"_30jeq3\"]')\n",
    "\n",
    "\n",
    "# creating an empty prices list\n",
    "brand_prices_list = []\n",
    "\n",
    "for i in Brand_prices:\n",
    "    brand_prices_list.append(i.text)\n",
    "len(brand_prices_list)   \n"
   ]
  },
  {
   "cell_type": "code",
   "execution_count": 72,
   "id": "59c95ea6",
   "metadata": {
    "scrolled": true
   },
   "outputs": [
    {
     "name": "stdout",
     "output_type": "stream",
     "text": [
      "40 40 40\n"
     ]
    }
   ],
   "source": [
    "print(len(brand_name),len(brand_desc),len(brand_prices_list))"
   ]
  },
  {
   "cell_type": "code",
   "execution_count": 73,
   "id": "a3a8cbf1",
   "metadata": {},
   "outputs": [],
   "source": [
    "# next_link\n",
    "\n",
    "next_link = driver.find_element_by_xpath('/html/body/div[1]/div/div[3]/div[1]/div[2]/div[12]/div/div/nav/a[11]')\n",
    "next_link.click()"
   ]
  },
  {
   "cell_type": "markdown",
   "id": "6c761ecc",
   "metadata": {},
   "source": [
    "# Selecting the Discription of 2nd page"
   ]
  },
  {
   "cell_type": "code",
   "execution_count": 74,
   "id": "29af23b1",
   "metadata": {},
   "outputs": [
    {
     "data": {
      "text/plain": [
       "80"
      ]
     },
     "execution_count": 74,
     "metadata": {},
     "output_type": "execute_result"
    }
   ],
   "source": [
    "\n",
    "#selecting the brand Name\n",
    "Brand = driver.find_elements_by_xpath('//div[@class=\"_2WkVRV\"]')\n",
    "\n",
    "\n",
    "#brand_name = [] # brand name empty list\n",
    "for i in Brand:\n",
    "    brand_name.append(i.text)\n",
    "len(brand_name)"
   ]
  },
  {
   "cell_type": "code",
   "execution_count": 75,
   "id": "17a04abd",
   "metadata": {},
   "outputs": [
    {
     "data": {
      "text/plain": [
       "80"
      ]
     },
     "execution_count": 75,
     "metadata": {},
     "output_type": "execute_result"
    }
   ],
   "source": [
    "# selecting Brand Description\n",
    "\n",
    "\n",
    "brand_description = driver.find_elements_by_class_name('IRpwTa')\n",
    "\n",
    "\n",
    "\n",
    "# Creating a list of description list of brand \n",
    "#brand_desc = []\n",
    "for i in range(len(brand_description)):\n",
    "    brand_desc.append((brand_description[i].get_attribute(\"title\")))\n",
    "    #brans_desc.append(i.get_attribute(\"title\"))\n",
    "len(brand_desc)"
   ]
  },
  {
   "cell_type": "code",
   "execution_count": 77,
   "id": "1b45b240",
   "metadata": {},
   "outputs": [
    {
     "data": {
      "text/plain": [
       "80"
      ]
     },
     "execution_count": 77,
     "metadata": {},
     "output_type": "execute_result"
    }
   ],
   "source": [
    "# selecting the Brand Prices\n",
    "Brand_prices = driver.find_elements_by_xpath('//div[@class=\"_30jeq3\"]')\n",
    "\n",
    "\n",
    "# creating an empty prices list\n",
    "#brand_prices_list = []\n",
    "\n",
    "for i in Brand_prices:\n",
    "    brand_prices_list.append(i.text)\n",
    "len(brand_prices_list) "
   ]
  },
  {
   "cell_type": "code",
   "execution_count": 78,
   "id": "1cfb7595",
   "metadata": {},
   "outputs": [],
   "source": [
    "# next_link\n",
    "\n",
    "next_link = driver.find_element_by_xpath('/html/body/div[1]/div/div[3]/div[1]/div[2]/div[12]/div/div/nav/a[11]')\n",
    "next_link.click()"
   ]
  },
  {
   "cell_type": "markdown",
   "id": "b99572ea",
   "metadata": {},
   "source": [
    "# selecting the description from 3rd page"
   ]
  },
  {
   "cell_type": "code",
   "execution_count": 79,
   "id": "05b9a9f8",
   "metadata": {},
   "outputs": [
    {
     "data": {
      "text/plain": [
       "120"
      ]
     },
     "execution_count": 79,
     "metadata": {},
     "output_type": "execute_result"
    }
   ],
   "source": [
    "\n",
    "#selecting the brand Name\n",
    "Brand = driver.find_elements_by_xpath('//div[@class=\"_2WkVRV\"]')\n",
    "\n",
    "\n",
    "#brand_name = [] # brand name empty list\n",
    "for i in Brand:\n",
    "    brand_name.append(i.text)\n",
    "len(brand_name)"
   ]
  },
  {
   "cell_type": "code",
   "execution_count": 80,
   "id": "ad6f34f5",
   "metadata": {},
   "outputs": [
    {
     "data": {
      "text/plain": [
       "120"
      ]
     },
     "execution_count": 80,
     "metadata": {},
     "output_type": "execute_result"
    }
   ],
   "source": [
    "# selecting Brand Description\n",
    "\n",
    "\n",
    "brand_description = driver.find_elements_by_class_name('IRpwTa')\n",
    "\n",
    "\n",
    "\n",
    "# Creating a list of description list of brand \n",
    "#brand_desc = []\n",
    "for i in range(len(brand_description)):\n",
    "    brand_desc.append((brand_description[i].get_attribute(\"title\")))\n",
    "    #brans_desc.append(i.get_attribute(\"title\"))\n",
    "len(brand_desc)"
   ]
  },
  {
   "cell_type": "code",
   "execution_count": 81,
   "id": "805641fd",
   "metadata": {},
   "outputs": [
    {
     "data": {
      "text/plain": [
       "119"
      ]
     },
     "execution_count": 81,
     "metadata": {},
     "output_type": "execute_result"
    }
   ],
   "source": [
    "# selecting the Brand Prices\n",
    "Brand_prices = driver.find_elements_by_xpath('//div[@class=\"_30jeq3\"]')\n",
    "\n",
    "\n",
    "# creating an empty prices list\n",
    "#brand_prices_list = []\n",
    "\n",
    "for i in Brand_prices:\n",
    "    brand_prices_list.append(i.text)\n",
    "len(brand_prices_list) "
   ]
  },
  {
   "cell_type": "code",
   "execution_count": null,
   "id": "f8a14592",
   "metadata": {},
   "outputs": [],
   "source": []
  },
  {
   "cell_type": "code",
   "execution_count": 82,
   "id": "c464f809",
   "metadata": {},
   "outputs": [
    {
     "data": {
      "text/html": [
       "<div>\n",
       "<style scoped>\n",
       "    .dataframe tbody tr th:only-of-type {\n",
       "        vertical-align: middle;\n",
       "    }\n",
       "\n",
       "    .dataframe tbody tr th {\n",
       "        vertical-align: top;\n",
       "    }\n",
       "\n",
       "    .dataframe thead th {\n",
       "        text-align: right;\n",
       "    }\n",
       "</style>\n",
       "<table border=\"1\" class=\"dataframe\">\n",
       "  <thead>\n",
       "    <tr style=\"text-align: right;\">\n",
       "      <th></th>\n",
       "      <th>Brands name</th>\n",
       "      <th>Brand Description</th>\n",
       "      <th>Prices</th>\n",
       "    </tr>\n",
       "  </thead>\n",
       "  <tbody>\n",
       "    <tr>\n",
       "      <th>0</th>\n",
       "      <td>Echor</td>\n",
       "      <td>Echor Men's Sneakers Fashion Lightweight Runni...</td>\n",
       "      <td>₹474</td>\n",
       "    </tr>\n",
       "    <tr>\n",
       "      <th>1</th>\n",
       "      <td>India hub</td>\n",
       "      <td>Luxury Fashionable casual sneaker shoes Sneake...</td>\n",
       "      <td>₹178</td>\n",
       "    </tr>\n",
       "    <tr>\n",
       "      <th>2</th>\n",
       "      <td>Magnolia</td>\n",
       "      <td>Sneakers For Men</td>\n",
       "      <td>₹407</td>\n",
       "    </tr>\n",
       "    <tr>\n",
       "      <th>3</th>\n",
       "      <td>URBANBOX</td>\n",
       "      <td>Sneakers Sneakers For Men</td>\n",
       "      <td>₹569</td>\n",
       "    </tr>\n",
       "    <tr>\n",
       "      <th>4</th>\n",
       "      <td>Labbin</td>\n",
       "      <td>Sneakers For Men</td>\n",
       "      <td>₹299</td>\n",
       "    </tr>\n",
       "    <tr>\n",
       "      <th>...</th>\n",
       "      <td>...</td>\n",
       "      <td>...</td>\n",
       "      <td>...</td>\n",
       "    </tr>\n",
       "    <tr>\n",
       "      <th>95</th>\n",
       "      <td>Bond Street By Red Tape</td>\n",
       "      <td>Sneakers For Men</td>\n",
       "      <td>₹1,259</td>\n",
       "    </tr>\n",
       "    <tr>\n",
       "      <th>96</th>\n",
       "      <td>Roadster</td>\n",
       "      <td>Men Grey Solid Mid-Top Sneakers Sneakers For Men</td>\n",
       "      <td>₹1,699</td>\n",
       "    </tr>\n",
       "    <tr>\n",
       "      <th>97</th>\n",
       "      <td>PUMA</td>\n",
       "      <td>Future Rider Neon Play Sneakers For Men</td>\n",
       "      <td>₹2,851</td>\n",
       "    </tr>\n",
       "    <tr>\n",
       "      <th>98</th>\n",
       "      <td>Woodage</td>\n",
       "      <td>Casual Shoes Slip On Sneakers For Men Sneakers...</td>\n",
       "      <td>₹474</td>\n",
       "    </tr>\n",
       "    <tr>\n",
       "      <th>99</th>\n",
       "      <td>RED TAPE</td>\n",
       "      <td>Classic Sneakers For Men</td>\n",
       "      <td>₹1,678</td>\n",
       "    </tr>\n",
       "  </tbody>\n",
       "</table>\n",
       "<p>100 rows × 3 columns</p>\n",
       "</div>"
      ],
      "text/plain": [
       "                Brands name  \\\n",
       "0                     Echor   \n",
       "1                 India hub   \n",
       "2                  Magnolia   \n",
       "3                  URBANBOX   \n",
       "4                    Labbin   \n",
       "..                      ...   \n",
       "95  Bond Street By Red Tape   \n",
       "96                 Roadster   \n",
       "97                     PUMA   \n",
       "98                  Woodage   \n",
       "99                 RED TAPE   \n",
       "\n",
       "                                    Brand Description  Prices  \n",
       "0   Echor Men's Sneakers Fashion Lightweight Runni...    ₹474  \n",
       "1   Luxury Fashionable casual sneaker shoes Sneake...    ₹178  \n",
       "2                                    Sneakers For Men    ₹407  \n",
       "3                           Sneakers Sneakers For Men    ₹569  \n",
       "4                                    Sneakers For Men    ₹299  \n",
       "..                                                ...     ...  \n",
       "95                                   Sneakers For Men  ₹1,259  \n",
       "96   Men Grey Solid Mid-Top Sneakers Sneakers For Men  ₹1,699  \n",
       "97            Future Rider Neon Play Sneakers For Men  ₹2,851  \n",
       "98  Casual Shoes Slip On Sneakers For Men Sneakers...    ₹474  \n",
       "99                           Classic Sneakers For Men  ₹1,678  \n",
       "\n",
       "[100 rows x 3 columns]"
      ]
     },
     "execution_count": 82,
     "metadata": {},
     "output_type": "execute_result"
    }
   ],
   "source": [
    "## getting the first 10 elements\n",
    "\n",
    "Brands = pd.DataFrame()\n",
    "\n",
    "Brands['Brands name'] = brand_name[0:100]\n",
    "Brands['Brand Description']   = brand_desc[0:100]\n",
    "Brands['Prices'] = brand_prices_list[0:100]\n",
    "\n",
    "\n",
    "Brands"
   ]
  }
 ],
 "metadata": {
  "kernelspec": {
   "display_name": "Python 3",
   "language": "python",
   "name": "python3"
  },
  "language_info": {
   "codemirror_mode": {
    "name": "ipython",
    "version": 3
   },
   "file_extension": ".py",
   "mimetype": "text/x-python",
   "name": "python",
   "nbconvert_exporter": "python",
   "pygments_lexer": "ipython3",
   "version": "3.8.8"
  }
 },
 "nbformat": 4,
 "nbformat_minor": 5
}
