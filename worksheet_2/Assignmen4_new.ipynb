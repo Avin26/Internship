{
 "cells": [
  {
   "cell_type": "code",
   "execution_count": 1,
   "id": "5d77c822",
   "metadata": {},
   "outputs": [],
   "source": [
    "# Let's import all required libraries\n",
    "import selenium\n",
    "from selenium import webdriver\n",
    "import pandas as pd\n",
    "import warnings\n",
    "warnings.filterwarnings('ignore')"
   ]
  },
  {
   "cell_type": "markdown",
   "id": "1c69ecd3",
   "metadata": {},
   "source": [
    "# Let's import all required libraries\n",
    "import selenium\n",
    "from selenium import webdriver\n",
    "import pandas as pd\n",
    "import warnings\n",
    "warnings.filterwarnings('ignore')"
   ]
  },
  {
   "cell_type": "code",
   "execution_count": 2,
   "id": "d8c63960",
   "metadata": {
    "scrolled": true
   },
   "outputs": [],
   "source": [
    "# Let's first connect to the web driver\n",
    "driver = webdriver.Chrome(r\"C:\\Users\\avina\\Desktop\\Web Driver\\chromedriver_win32\\chromedriver.exe\")\n",
    "url = 'https://www.flipkart.com/'\n",
    "driver.get(url)"
   ]
  },
  {
   "cell_type": "code",
   "execution_count": 3,
   "id": "36b686e0",
   "metadata": {},
   "outputs": [],
   "source": [
    "# closing the button\n",
    "closing_btn = driver.find_element_by_xpath('/html/body/div[2]/div/div/button')\n",
    "closing_btn.click()"
   ]
  },
  {
   "cell_type": "code",
   "execution_count": 4,
   "id": "6c61455e",
   "metadata": {},
   "outputs": [],
   "source": [
    "# selecing the search input and sending values of sunglasses\n",
    "search_item = driver.find_element_by_name('q')\n",
    "search_item.send_keys('sunglasses')"
   ]
  },
  {
   "cell_type": "code",
   "execution_count": 5,
   "id": "35aa3d13",
   "metadata": {},
   "outputs": [],
   "source": [
    "# clicking the search button\n",
    "search_btn = driver.find_element_by_xpath('/html/body/div[1]/div/div[1]/div[1]/div[2]/div[2]/form/div/button')\n",
    "search_btn.click()\n"
   ]
  },
  {
   "cell_type": "markdown",
   "id": "ef0a137a",
   "metadata": {},
   "source": [
    "## Now let's first create 4 empty lists. In these lists the data will be stored while scrapping"
   ]
  },
  {
   "cell_type": "markdown",
   "id": "04ab63a2",
   "metadata": {},
   "source": [
    "# Scraping the data from ist Page"
   ]
  },
  {
   "cell_type": "code",
   "execution_count": 6,
   "id": "1d93c063",
   "metadata": {},
   "outputs": [
    {
     "data": {
      "text/plain": [
       "[]"
      ]
     },
     "execution_count": 6,
     "metadata": {},
     "output_type": "execute_result"
    }
   ],
   "source": [
    "# Let's extract all web elements having Brand\n",
    "Brand_tags = driver.find_elements_by_xpath('//div[@class=\"_2WkVRV\"]')\n",
    "\n",
    "\n",
    "Brands = []\n",
    "for i in Brand_tags:\n",
    "    Brands.append(i.text)\n",
    "Brands"
   ]
  },
  {
   "cell_type": "code",
   "execution_count": 7,
   "id": "e6ff05bb",
   "metadata": {},
   "outputs": [],
   "source": [
    "# Extracting the Description tags\n",
    "Description_tags = driver.find_elements_by_xpath('//a[@class=\"IRpwTa\"]')\n",
    "\n",
    "Description = []\n",
    "for i in Description_tags:\n",
    "    Description.append(i.get_attribute('title'))"
   ]
  },
  {
   "cell_type": "code",
   "execution_count": null,
   "id": "2f0aed1a",
   "metadata": {},
   "outputs": [],
   "source": [
    "len(Description)"
   ]
  },
  {
   "cell_type": "code",
   "execution_count": null,
   "id": "f2db58b5",
   "metadata": {},
   "outputs": [],
   "source": [
    "Price_tags = driver.find_elements_by_xpath('//div[@class=\"_30jeq3\"]')\n",
    "\n",
    "Price = []\n",
    "for i in Price_tags:\n",
    "    Price.append(i.text)"
   ]
  },
  {
   "cell_type": "code",
   "execution_count": null,
   "id": "3ea7e940",
   "metadata": {},
   "outputs": [],
   "source": [
    "Off_tags = driver.find_elements_by_xpath('//div[@class=\"_3Ay6Sb\"]/span')\n",
    "\n",
    "Offs = []\n",
    "for i in Off_tags:\n",
    "    Offs.append(i.text)\n",
    "Offs"
   ]
  },
  {
   "cell_type": "code",
   "execution_count": null,
   "id": "4ed03ed9",
   "metadata": {},
   "outputs": [],
   "source": [
    "len(Offs)"
   ]
  },
  {
   "cell_type": "code",
   "execution_count": null,
   "id": "31bae359",
   "metadata": {
    "scrolled": true
   },
   "outputs": [],
   "source": [
    "print(len(Brands),len(Price),len(Description),len(Offs))"
   ]
  },
  {
   "cell_type": "code",
   "execution_count": null,
   "id": "e2997ccb",
   "metadata": {},
   "outputs": [],
   "source": [
    "# Clicking the next button\n",
    "\n",
    "next_button = driver.find_element_by_xpath('/html/body/div[1]/div/div[3]/div[1]/div[2]/div[12]/div/div/nav/a[2]')\n",
    "next_button.click()"
   ]
  },
  {
   "cell_type": "markdown",
   "id": "3d17d02e",
   "metadata": {},
   "source": [
    "## scrapping from 2nd page"
   ]
  },
  {
   "cell_type": "code",
   "execution_count": null,
   "id": "23bd99b5",
   "metadata": {},
   "outputs": [],
   "source": [
    "# Let's extract all web elements having Brand\n",
    "Brand_tags = driver.find_elements_by_xpath('//div[@class=\"_2WkVRV\"]')\n",
    "\n",
    "#Brands = []\n",
    "for i in Brand_tags:\n",
    "    Brands.append(i.text)\n",
    "Brands\n",
    "##location[0:2]"
   ]
  },
  {
   "cell_type": "code",
   "execution_count": null,
   "id": "6cb2ad0d",
   "metadata": {},
   "outputs": [],
   "source": []
  },
  {
   "cell_type": "code",
   "execution_count": null,
   "id": "6f64a99f",
   "metadata": {},
   "outputs": [],
   "source": [
    "# Extracting the Description tags\n",
    "Description_tags = driver.find_elements_by_xpath('//a[@class=\"IRpwTa\"]')\n",
    "\n",
    "#Description = []\n",
    "for i in Description_tags:\n",
    "    Description.append(i.get_attribute('title'))"
   ]
  },
  {
   "cell_type": "code",
   "execution_count": null,
   "id": "eb72fbce",
   "metadata": {
    "scrolled": true
   },
   "outputs": [],
   "source": [
    "len(Brands)"
   ]
  },
  {
   "cell_type": "code",
   "execution_count": null,
   "id": "6ad45737",
   "metadata": {},
   "outputs": [],
   "source": []
  },
  {
   "cell_type": "code",
   "execution_count": null,
   "id": "5d3d6898",
   "metadata": {},
   "outputs": [],
   "source": [
    "Price_tags = driver.find_elements_by_xpath('//div[@class=\"_30jeq3\"]')\n",
    "\n",
    "\n",
    "#Price = []\n",
    "for i in Price_tags:\n",
    "    Price.append(i.text)\n",
    "len(Price)  "
   ]
  },
  {
   "cell_type": "code",
   "execution_count": null,
   "id": "733f4832",
   "metadata": {},
   "outputs": [],
   "source": [
    "Off_tags = driver.find_elements_by_xpath('//div[@class=\"_3Ay6Sb\"]/span')\n",
    "\n",
    "for i in Off_tags:\n",
    "    Offs.append(i.text)\n",
    "Offs"
   ]
  },
  {
   "cell_type": "code",
   "execution_count": null,
   "id": "745a5860",
   "metadata": {},
   "outputs": [],
   "source": [
    "len(Offs)"
   ]
  },
  {
   "cell_type": "code",
   "execution_count": null,
   "id": "86159fc6",
   "metadata": {
    "scrolled": true
   },
   "outputs": [],
   "source": [
    "print(len(Brands),len(Price),len(Description),len(Offs))"
   ]
  },
  {
   "cell_type": "code",
   "execution_count": null,
   "id": "bf93d1ce",
   "metadata": {},
   "outputs": [],
   "source": []
  },
  {
   "cell_type": "code",
   "execution_count": null,
   "id": "dab1a043",
   "metadata": {},
   "outputs": [],
   "source": [
    "# Clicking the next button\n",
    "\n",
    "next_button = driver.find_element_by_xpath('/html/body/div[1]/div/div[3]/div[1]/div[2]/div[12]/div/div/nav/a[4]')\n",
    "next_button.click()"
   ]
  },
  {
   "cell_type": "markdown",
   "id": "4a8f93a6",
   "metadata": {},
   "source": [
    "# Extracting from 3rd page"
   ]
  },
  {
   "cell_type": "code",
   "execution_count": null,
   "id": "6a8e968c",
   "metadata": {},
   "outputs": [],
   "source": [
    "# Let's extract all web elements having Brand\n",
    "Brand_tags = driver.find_elements_by_xpath('//div[@class=\"_2WkVRV\"]')\n",
    "\n",
    "#Brands = []\n",
    "for i in Brand_tags:\n",
    "    Brands.append(i.text)\n",
    "Brands\n",
    "##location[0:2]"
   ]
  },
  {
   "cell_type": "code",
   "execution_count": null,
   "id": "626ad4e8",
   "metadata": {},
   "outputs": [],
   "source": []
  },
  {
   "cell_type": "code",
   "execution_count": null,
   "id": "3505266c",
   "metadata": {},
   "outputs": [],
   "source": [
    "# Extracting the Description tags\n",
    "Description_tags = driver.find_elements_by_xpath('//a[@class=\"IRpwTa\"]')\n",
    "\n",
    "#Description = []\n",
    "for i in Description_tags:\n",
    "    Description.append(i.get_attribute('title'))"
   ]
  },
  {
   "cell_type": "code",
   "execution_count": null,
   "id": "cd1935e1",
   "metadata": {
    "scrolled": true
   },
   "outputs": [],
   "source": [
    "len(Brands)"
   ]
  },
  {
   "cell_type": "code",
   "execution_count": null,
   "id": "cce0bb78",
   "metadata": {},
   "outputs": [],
   "source": []
  },
  {
   "cell_type": "code",
   "execution_count": null,
   "id": "0b848102",
   "metadata": {},
   "outputs": [],
   "source": [
    "Price_tags = driver.find_elements_by_xpath('//div[@class=\"_30jeq3\"]')\n",
    "\n",
    "\n",
    "#Price = []\n",
    "for i in Price_tags:\n",
    "    Price.append(i.text)\n",
    "len(Price)  "
   ]
  },
  {
   "cell_type": "code",
   "execution_count": null,
   "id": "de47a22e",
   "metadata": {},
   "outputs": [],
   "source": [
    "Off_tags = driver.find_elements_by_xpath('//div[@class=\"_3Ay6Sb\"]/span')\n",
    "\n",
    "for i in Off_tags:\n",
    "    Offs.append(i.text)\n",
    "Offs"
   ]
  },
  {
   "cell_type": "code",
   "execution_count": null,
   "id": "6bb29ecf",
   "metadata": {},
   "outputs": [],
   "source": [
    "len(Offs)"
   ]
  },
  {
   "cell_type": "code",
   "execution_count": null,
   "id": "2aa28159",
   "metadata": {
    "scrolled": true
   },
   "outputs": [],
   "source": [
    "print(len(Brands),len(Price),len(Description),len(Offs))"
   ]
  },
  {
   "cell_type": "code",
   "execution_count": null,
   "id": "0f769e63",
   "metadata": {
    "scrolled": true
   },
   "outputs": [],
   "source": [
    "# creating a dataframe\n",
    "\n",
    "\n",
    "\n",
    "## getting the first 10 elements\n",
    "\n",
    "jobs = pd.DataFrame()\n",
    "\n",
    "jobs['Brands'] = Brands[0:100]\n",
    "jobs['Description']   = Description[0:100]\n",
    "jobs['Price'] = Price[0:100]\n",
    "jobs['Offs']   = Offs[0:100]\n",
    "\n",
    "jobs"
   ]
  },
  {
   "cell_type": "code",
   "execution_count": null,
   "id": "976ed611",
   "metadata": {},
   "outputs": [],
   "source": []
  },
  {
   "cell_type": "code",
   "execution_count": null,
   "id": "6f317f64",
   "metadata": {},
   "outputs": [],
   "source": []
  }
 ],
 "metadata": {
  "kernelspec": {
   "display_name": "Python 3",
   "language": "python",
   "name": "python3"
  },
  "language_info": {
   "codemirror_mode": {
    "name": "ipython",
    "version": 3
   },
   "file_extension": ".py",
   "mimetype": "text/x-python",
   "name": "python",
   "nbconvert_exporter": "python",
   "pygments_lexer": "ipython3",
   "version": "3.8.8"
  }
 },
 "nbformat": 4,
 "nbformat_minor": 5
}
