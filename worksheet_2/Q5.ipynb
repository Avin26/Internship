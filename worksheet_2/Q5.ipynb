{
 "cells": [
  {
   "cell_type": "markdown",
   "id": "c042de88",
   "metadata": {},
   "source": [
    " #Flipkart"
   ]
  },
  {
   "cell_type": "code",
   "execution_count": 281,
   "id": "f6760388",
   "metadata": {},
   "outputs": [],
   "source": [
    "# Let's import all required libraries\n",
    "import selenium\n",
    "from selenium import webdriver\n",
    "import pandas as pd\n",
    "import warnings\n",
    "warnings.filterwarnings('ignore')\n",
    "\n",
    "\n",
    "# Let's first connect to the web driver\n",
    "driver = webdriver.Chrome(r\"C:\\Users\\avina\\Desktop\\Web Driver\\chromedriver_win32\\chromedriver.exe\")\n",
    "\n",
    "url = 'https://www.flipkart.com/apple-iphone-11-black-64-gb-includes-%20earpods-poweradapter/p/itm0f37c2240b217?pid=MOBFKCTSVZAXUHGR&lid=LSTMOBFKC%20%20TSVZAXUHGREPBFGI&marketplace'\n",
    "driver.get(url)"
   ]
  },
  {
   "cell_type": "code",
   "execution_count": null,
   "id": "977b81cf",
   "metadata": {},
   "outputs": [],
   "source": []
  },
  {
   "cell_type": "code",
   "execution_count": 282,
   "id": "7e8ba220",
   "metadata": {
    "scrolled": true
   },
   "outputs": [],
   "source": [
    "# Let's extract all web elements having company name\n",
    "Review_button = driver.find_element_by_xpath('/html/body/div[1]/div/div[3]/div[1]/div[2]/div[9]/div/div/div[5]/div/a')\n"
   ]
  },
  {
   "cell_type": "code",
   "execution_count": 283,
   "id": "711a6d8a",
   "metadata": {
    "scrolled": false
   },
   "outputs": [],
   "source": [
    "Review_button.click()"
   ]
  },
  {
   "cell_type": "code",
   "execution_count": 284,
   "id": "dc541400",
   "metadata": {},
   "outputs": [],
   "source": [
    "stars = []\n",
    "title = []\n",
    "Description = []"
   ]
  },
  {
   "cell_type": "code",
   "execution_count": null,
   "id": "d0bf048a",
   "metadata": {},
   "outputs": [],
   "source": [
    "Star_tags = driver.find_elements_by_class_name('_3LWZlK')"
   ]
  },
  {
   "cell_type": "code",
   "execution_count": null,
   "id": "c407d760",
   "metadata": {},
   "outputs": [],
   "source": []
  },
  {
   "cell_type": "code",
   "execution_count": null,
   "id": "bc785b63",
   "metadata": {},
   "outputs": [],
   "source": [
    "Star_tags = driver.find_elements_by_class_name('_3LWZlK')\n",
    "    len(Star_tags)\n",
    "\n",
    "    \n",
    "    for i in Star_tags[1:]:\n",
    "        stars.append(i.text)\n",
    "    len(stars)\n",
    "\n",
    "\n",
    "    #_2-N8zT\n",
    "    # Let's extract all the title tags\n",
    "    title_tags = driver.find_elements_by_xpath(('//p[@class=\"_2-N8zT\"]'))\n",
    "    len(title_tags)\n",
    "\n",
    "    \n",
    "    for i in title_tags:\n",
    "        title.append(i.text)\n",
    "    title\n",
    "    \n",
    "\n",
    "\n",
    "    #t-ZTKy\n",
    "    # Let's extract all the title tags\n",
    "    Description_tags = driver.find_elements_by_xpath(('//div[@class=\"t-ZTKy\"]'))\n",
    "    #len(Description_tags)\n",
    "\n",
    "\n",
    "    #Description = []\n",
    "    \n",
    "    for i in Description_tags:\n",
    "        Description.append(i.text)\n",
    "    len(Description)\n",
    "    \n",
    "\n",
    "    print(len(stars),len(title),len(Description))\n",
    "    \n",
    "    \n",
    "    if(count == 1):\n",
    "        next_button = driver.find_element_by_xpath('/html/body/div[1]/div/div[3]/div/div/div[2]/div[13]/div/div/nav/a[11]')\n",
    "        next_button.click()\n",
    "    if(count == 2):\n",
    "        button_2 = driver.find_element_by_xpath('/html/body/div/div/div[3]/div/div/div[2]/div[13]/div/div/nav/a[11]')\n",
    "        button_2.click()\n",
    "    if(count > 2):\n",
    "        button_3 = driver.find_element_by_xpath('/html/body/div/div/div[3]/div/div/div[2]/div[13]/div/div/nav/a[12]')\n",
    "        button_3.click()\n",
    "    count = count + 1\n",
    "    print(len(Star_tags),len(title_tags),len(Description_tags))"
   ]
  },
  {
   "cell_type": "code",
   "execution_count": null,
   "id": "9ade78fa",
   "metadata": {},
   "outputs": [],
   "source": []
  },
  {
   "cell_type": "code",
   "execution_count": null,
   "id": "5d35e67c",
   "metadata": {},
   "outputs": [],
   "source": []
  },
  {
   "cell_type": "code",
   "execution_count": 285,
   "id": "f467c675",
   "metadata": {
    "scrolled": true
   },
   "outputs": [
    {
     "name": "stdout",
     "output_type": "stream",
     "text": [
      "0 0 0\n",
      "11 10 10\n",
      "0 0 0\n"
     ]
    },
    {
     "ename": "StaleElementReferenceException",
     "evalue": "Message: stale element reference: element is not attached to the page document\n  (Session info: chrome=97.0.4692.71)\nStacktrace:\nBacktrace:\n\tOrdinal0 [0x0116FDC3+2555331]\n\tOrdinal0 [0x011077F1+2127857]\n\tOrdinal0 [0x01002E08+1060360]\n\tOrdinal0 [0x01005524+1070372]\n\tOrdinal0 [0x010053EE+1070062]\n\tOrdinal0 [0x01005650+1070672]\n\tOrdinal0 [0x010346A1+1263265]\n\tOrdinal0 [0x01032B10+1256208]\n\tOrdinal0 [0x0103076B+1247083]\n\tOrdinal0 [0x0102F559+1242457]\n\tOrdinal0 [0x01024FB3+1200051]\n\tOrdinal0 [0x01047B0C+1342220]\n\tOrdinal0 [0x01024984+1198468]\n\tOrdinal0 [0x01047C14+1342484]\n\tOrdinal0 [0x010575FA+1406458]\n\tOrdinal0 [0x01047976+1341814]\n\tOrdinal0 [0x010236B6+1193654]\n\tOrdinal0 [0x01024546+1197382]\n\tGetHandleVerifier [0x01309622+1619522]\n\tGetHandleVerifier [0x013B882C+2336844]\n\tGetHandleVerifier [0x012023E1+541697]\n\tGetHandleVerifier [0x01201443+537699]\n\tOrdinal0 [0x0110D18E+2150798]\n\tOrdinal0 [0x01111518+2168088]\n\tOrdinal0 [0x01111660+2168416]\n\tOrdinal0 [0x0111B330+2208560]\n\tBaseThreadInitThunk [0x760F6739+25]\n\tRtlGetFullPathName_UEx [0x777F8AFF+1215]\n\tRtlGetFullPathName_UEx [0x777F8ACD+1165]\n",
     "output_type": "error",
     "traceback": [
      "\u001b[1;31m---------------------------------------------------------------------------\u001b[0m",
      "\u001b[1;31mStaleElementReferenceException\u001b[0m            Traceback (most recent call last)",
      "\u001b[1;32m<ipython-input-285-0899b0b2eb83>\u001b[0m in \u001b[0;36m<module>\u001b[1;34m\u001b[0m\n\u001b[0;32m     44\u001b[0m     \u001b[1;32mif\u001b[0m\u001b[1;33m(\u001b[0m\u001b[0mcount\u001b[0m \u001b[1;33m==\u001b[0m \u001b[1;36m2\u001b[0m\u001b[1;33m)\u001b[0m\u001b[1;33m:\u001b[0m\u001b[1;33m\u001b[0m\u001b[1;33m\u001b[0m\u001b[0m\n\u001b[0;32m     45\u001b[0m         \u001b[0mbutton_2\u001b[0m \u001b[1;33m=\u001b[0m \u001b[0mdriver\u001b[0m\u001b[1;33m.\u001b[0m\u001b[0mfind_element_by_xpath\u001b[0m\u001b[1;33m(\u001b[0m\u001b[1;34m'/html/body/div/div/div[3]/div/div/div[2]/div[13]/div/div/nav/a[11]'\u001b[0m\u001b[1;33m)\u001b[0m\u001b[1;33m\u001b[0m\u001b[1;33m\u001b[0m\u001b[0m\n\u001b[1;32m---> 46\u001b[1;33m         \u001b[0mbutton_2\u001b[0m\u001b[1;33m.\u001b[0m\u001b[0mclick\u001b[0m\u001b[1;33m(\u001b[0m\u001b[1;33m)\u001b[0m\u001b[1;33m\u001b[0m\u001b[1;33m\u001b[0m\u001b[0m\n\u001b[0m\u001b[0;32m     47\u001b[0m     \u001b[1;32mif\u001b[0m\u001b[1;33m(\u001b[0m\u001b[0mcount\u001b[0m \u001b[1;33m>\u001b[0m \u001b[1;36m2\u001b[0m\u001b[1;33m)\u001b[0m\u001b[1;33m:\u001b[0m\u001b[1;33m\u001b[0m\u001b[1;33m\u001b[0m\u001b[0m\n\u001b[0;32m     48\u001b[0m         \u001b[0mbutton_3\u001b[0m \u001b[1;33m=\u001b[0m \u001b[0mdriver\u001b[0m\u001b[1;33m.\u001b[0m\u001b[0mfind_element_by_xpath\u001b[0m\u001b[1;33m(\u001b[0m\u001b[1;34m'/html/body/div/div/div[3]/div/div/div[2]/div[13]/div/div/nav/a[12]'\u001b[0m\u001b[1;33m)\u001b[0m\u001b[1;33m\u001b[0m\u001b[1;33m\u001b[0m\u001b[0m\n",
      "\u001b[1;32mC:\\ProgramData\\Anaconda3\\lib\\site-packages\\selenium\\webdriver\\remote\\webelement.py\u001b[0m in \u001b[0;36mclick\u001b[1;34m(self)\u001b[0m\n\u001b[0;32m     79\u001b[0m     \u001b[1;32mdef\u001b[0m \u001b[0mclick\u001b[0m\u001b[1;33m(\u001b[0m\u001b[0mself\u001b[0m\u001b[1;33m)\u001b[0m \u001b[1;33m->\u001b[0m \u001b[1;32mNone\u001b[0m\u001b[1;33m:\u001b[0m\u001b[1;33m\u001b[0m\u001b[1;33m\u001b[0m\u001b[0m\n\u001b[0;32m     80\u001b[0m         \u001b[1;34m\"\"\"Clicks the element.\"\"\"\u001b[0m\u001b[1;33m\u001b[0m\u001b[1;33m\u001b[0m\u001b[0m\n\u001b[1;32m---> 81\u001b[1;33m         \u001b[0mself\u001b[0m\u001b[1;33m.\u001b[0m\u001b[0m_execute\u001b[0m\u001b[1;33m(\u001b[0m\u001b[0mCommand\u001b[0m\u001b[1;33m.\u001b[0m\u001b[0mCLICK_ELEMENT\u001b[0m\u001b[1;33m)\u001b[0m\u001b[1;33m\u001b[0m\u001b[1;33m\u001b[0m\u001b[0m\n\u001b[0m\u001b[0;32m     82\u001b[0m \u001b[1;33m\u001b[0m\u001b[0m\n\u001b[0;32m     83\u001b[0m     \u001b[1;32mdef\u001b[0m \u001b[0msubmit\u001b[0m\u001b[1;33m(\u001b[0m\u001b[0mself\u001b[0m\u001b[1;33m)\u001b[0m\u001b[1;33m:\u001b[0m\u001b[1;33m\u001b[0m\u001b[1;33m\u001b[0m\u001b[0m\n",
      "\u001b[1;32mC:\\ProgramData\\Anaconda3\\lib\\site-packages\\selenium\\webdriver\\remote\\webelement.py\u001b[0m in \u001b[0;36m_execute\u001b[1;34m(self, command, params)\u001b[0m\n\u001b[0;32m    708\u001b[0m             \u001b[0mparams\u001b[0m \u001b[1;33m=\u001b[0m \u001b[1;33m{\u001b[0m\u001b[1;33m}\u001b[0m\u001b[1;33m\u001b[0m\u001b[1;33m\u001b[0m\u001b[0m\n\u001b[0;32m    709\u001b[0m         \u001b[0mparams\u001b[0m\u001b[1;33m[\u001b[0m\u001b[1;34m'id'\u001b[0m\u001b[1;33m]\u001b[0m \u001b[1;33m=\u001b[0m \u001b[0mself\u001b[0m\u001b[1;33m.\u001b[0m\u001b[0m_id\u001b[0m\u001b[1;33m\u001b[0m\u001b[1;33m\u001b[0m\u001b[0m\n\u001b[1;32m--> 710\u001b[1;33m         \u001b[1;32mreturn\u001b[0m \u001b[0mself\u001b[0m\u001b[1;33m.\u001b[0m\u001b[0m_parent\u001b[0m\u001b[1;33m.\u001b[0m\u001b[0mexecute\u001b[0m\u001b[1;33m(\u001b[0m\u001b[0mcommand\u001b[0m\u001b[1;33m,\u001b[0m \u001b[0mparams\u001b[0m\u001b[1;33m)\u001b[0m\u001b[1;33m\u001b[0m\u001b[1;33m\u001b[0m\u001b[0m\n\u001b[0m\u001b[0;32m    711\u001b[0m \u001b[1;33m\u001b[0m\u001b[0m\n\u001b[0;32m    712\u001b[0m     \u001b[1;32mdef\u001b[0m \u001b[0mfind_element\u001b[0m\u001b[1;33m(\u001b[0m\u001b[0mself\u001b[0m\u001b[1;33m,\u001b[0m \u001b[0mby\u001b[0m\u001b[1;33m=\u001b[0m\u001b[0mBy\u001b[0m\u001b[1;33m.\u001b[0m\u001b[0mID\u001b[0m\u001b[1;33m,\u001b[0m \u001b[0mvalue\u001b[0m\u001b[1;33m=\u001b[0m\u001b[1;32mNone\u001b[0m\u001b[1;33m)\u001b[0m\u001b[1;33m:\u001b[0m\u001b[1;33m\u001b[0m\u001b[1;33m\u001b[0m\u001b[0m\n",
      "\u001b[1;32mC:\\ProgramData\\Anaconda3\\lib\\site-packages\\selenium\\webdriver\\remote\\webdriver.py\u001b[0m in \u001b[0;36mexecute\u001b[1;34m(self, driver_command, params)\u001b[0m\n\u001b[0;32m    422\u001b[0m         \u001b[0mresponse\u001b[0m \u001b[1;33m=\u001b[0m \u001b[0mself\u001b[0m\u001b[1;33m.\u001b[0m\u001b[0mcommand_executor\u001b[0m\u001b[1;33m.\u001b[0m\u001b[0mexecute\u001b[0m\u001b[1;33m(\u001b[0m\u001b[0mdriver_command\u001b[0m\u001b[1;33m,\u001b[0m \u001b[0mparams\u001b[0m\u001b[1;33m)\u001b[0m\u001b[1;33m\u001b[0m\u001b[1;33m\u001b[0m\u001b[0m\n\u001b[0;32m    423\u001b[0m         \u001b[1;32mif\u001b[0m \u001b[0mresponse\u001b[0m\u001b[1;33m:\u001b[0m\u001b[1;33m\u001b[0m\u001b[1;33m\u001b[0m\u001b[0m\n\u001b[1;32m--> 424\u001b[1;33m             \u001b[0mself\u001b[0m\u001b[1;33m.\u001b[0m\u001b[0merror_handler\u001b[0m\u001b[1;33m.\u001b[0m\u001b[0mcheck_response\u001b[0m\u001b[1;33m(\u001b[0m\u001b[0mresponse\u001b[0m\u001b[1;33m)\u001b[0m\u001b[1;33m\u001b[0m\u001b[1;33m\u001b[0m\u001b[0m\n\u001b[0m\u001b[0;32m    425\u001b[0m             response['value'] = self._unwrap_value(\n\u001b[0;32m    426\u001b[0m                 response.get('value', None))\n",
      "\u001b[1;32mC:\\ProgramData\\Anaconda3\\lib\\site-packages\\selenium\\webdriver\\remote\\errorhandler.py\u001b[0m in \u001b[0;36mcheck_response\u001b[1;34m(self, response)\u001b[0m\n\u001b[0;32m    245\u001b[0m                 \u001b[0malert_text\u001b[0m \u001b[1;33m=\u001b[0m \u001b[0mvalue\u001b[0m\u001b[1;33m[\u001b[0m\u001b[1;34m'alert'\u001b[0m\u001b[1;33m]\u001b[0m\u001b[1;33m.\u001b[0m\u001b[0mget\u001b[0m\u001b[1;33m(\u001b[0m\u001b[1;34m'text'\u001b[0m\u001b[1;33m)\u001b[0m\u001b[1;33m\u001b[0m\u001b[1;33m\u001b[0m\u001b[0m\n\u001b[0;32m    246\u001b[0m             \u001b[1;32mraise\u001b[0m \u001b[0mexception_class\u001b[0m\u001b[1;33m(\u001b[0m\u001b[0mmessage\u001b[0m\u001b[1;33m,\u001b[0m \u001b[0mscreen\u001b[0m\u001b[1;33m,\u001b[0m \u001b[0mstacktrace\u001b[0m\u001b[1;33m,\u001b[0m \u001b[0malert_text\u001b[0m\u001b[1;33m)\u001b[0m  \u001b[1;31m# type: ignore[call-arg]  # mypy is not smart enough here\u001b[0m\u001b[1;33m\u001b[0m\u001b[1;33m\u001b[0m\u001b[0m\n\u001b[1;32m--> 247\u001b[1;33m         \u001b[1;32mraise\u001b[0m \u001b[0mexception_class\u001b[0m\u001b[1;33m(\u001b[0m\u001b[0mmessage\u001b[0m\u001b[1;33m,\u001b[0m \u001b[0mscreen\u001b[0m\u001b[1;33m,\u001b[0m \u001b[0mstacktrace\u001b[0m\u001b[1;33m)\u001b[0m\u001b[1;33m\u001b[0m\u001b[1;33m\u001b[0m\u001b[0m\n\u001b[0m\u001b[0;32m    248\u001b[0m \u001b[1;33m\u001b[0m\u001b[0m\n\u001b[0;32m    249\u001b[0m     \u001b[1;32mdef\u001b[0m \u001b[0m_value_or_default\u001b[0m\u001b[1;33m(\u001b[0m\u001b[0mself\u001b[0m\u001b[1;33m,\u001b[0m \u001b[0mobj\u001b[0m\u001b[1;33m:\u001b[0m \u001b[0mMapping\u001b[0m\u001b[1;33m[\u001b[0m\u001b[0m_KT\u001b[0m\u001b[1;33m,\u001b[0m \u001b[0m_VT\u001b[0m\u001b[1;33m]\u001b[0m\u001b[1;33m,\u001b[0m \u001b[0mkey\u001b[0m\u001b[1;33m:\u001b[0m \u001b[0m_KT\u001b[0m\u001b[1;33m,\u001b[0m \u001b[0mdefault\u001b[0m\u001b[1;33m:\u001b[0m \u001b[0m_VT\u001b[0m\u001b[1;33m)\u001b[0m \u001b[1;33m->\u001b[0m \u001b[0m_VT\u001b[0m\u001b[1;33m:\u001b[0m\u001b[1;33m\u001b[0m\u001b[1;33m\u001b[0m\u001b[0m\n",
      "\u001b[1;31mStaleElementReferenceException\u001b[0m: Message: stale element reference: element is not attached to the page document\n  (Session info: chrome=97.0.4692.71)\nStacktrace:\nBacktrace:\n\tOrdinal0 [0x0116FDC3+2555331]\n\tOrdinal0 [0x011077F1+2127857]\n\tOrdinal0 [0x01002E08+1060360]\n\tOrdinal0 [0x01005524+1070372]\n\tOrdinal0 [0x010053EE+1070062]\n\tOrdinal0 [0x01005650+1070672]\n\tOrdinal0 [0x010346A1+1263265]\n\tOrdinal0 [0x01032B10+1256208]\n\tOrdinal0 [0x0103076B+1247083]\n\tOrdinal0 [0x0102F559+1242457]\n\tOrdinal0 [0x01024FB3+1200051]\n\tOrdinal0 [0x01047B0C+1342220]\n\tOrdinal0 [0x01024984+1198468]\n\tOrdinal0 [0x01047C14+1342484]\n\tOrdinal0 [0x010575FA+1406458]\n\tOrdinal0 [0x01047976+1341814]\n\tOrdinal0 [0x010236B6+1193654]\n\tOrdinal0 [0x01024546+1197382]\n\tGetHandleVerifier [0x01309622+1619522]\n\tGetHandleVerifier [0x013B882C+2336844]\n\tGetHandleVerifier [0x012023E1+541697]\n\tGetHandleVerifier [0x01201443+537699]\n\tOrdinal0 [0x0110D18E+2150798]\n\tOrdinal0 [0x01111518+2168088]\n\tOrdinal0 [0x01111660+2168416]\n\tOrdinal0 [0x0111B330+2208560]\n\tBaseThreadInitThunk [0x760F6739+25]\n\tRtlGetFullPathName_UEx [0x777F8AFF+1215]\n\tRtlGetFullPathName_UEx [0x777F8ACD+1165]\n"
     ]
    }
   ],
   "source": [
    "count = 1\n",
    "for counter in range(0,10):    \n",
    "    Star_tags = driver.find_elements_by_class_name('_3LWZlK')\n",
    "    len(Star_tags)\n",
    "\n",
    "    \"\"\"\n",
    "    for i in Star_tags[1:]:\n",
    "        stars.append(i.text)\n",
    "    len(stars)\n",
    "    \"\"\"\n",
    "\n",
    "\n",
    "    #_2-N8zT\n",
    "    # Let's extract all the title tags\n",
    "    title_tags = driver.find_elements_by_xpath(('//p[@class=\"_2-N8zT\"]'))\n",
    "    len(title_tags)\n",
    "\n",
    "    \"\"\"\n",
    "    for i in title_tags:\n",
    "        title.append(i.text)\n",
    "    title\n",
    "    \"\"\"\n",
    "\n",
    "\n",
    "    #t-ZTKy\n",
    "    # Let's extract all the title tags\n",
    "    Description_tags = driver.find_elements_by_xpath(('//div[@class=\"t-ZTKy\"]'))\n",
    "    #len(Description_tags)\n",
    "\n",
    "\n",
    "    #Description = []\n",
    "    \"\"\"\n",
    "    for i in Description_tags:\n",
    "        Description.append(i.text)\n",
    "    len(Description)\n",
    "    \"\"\"\n",
    "\n",
    "    print(len(stars),len(title),len(Description))\n",
    "    \n",
    "    \n",
    "    if(count == 1):\n",
    "        next_button = driver.find_element_by_xpath('/html/body/div[1]/div/div[3]/div/div/div[2]/div[13]/div/div/nav/a[11]')\n",
    "        next_button.click()\n",
    "    if(count == 2):\n",
    "        button_2 = driver.find_element_by_xpath('/html/body/div/div/div[3]/div/div/div[2]/div[13]/div/div/nav/a[11]')\n",
    "        button_2.click()\n",
    "    if(count > 2):\n",
    "        button_3 = driver.find_element_by_xpath('/html/body/div/div/div[3]/div/div/div[2]/div[13]/div/div/nav/a[12]')\n",
    "        button_3.click()\n",
    "    count = count + 1\n",
    "    print(len(Star_tags),len(title_tags),len(Description_tags))\n",
    "        \n",
    "    "
   ]
  },
  {
   "cell_type": "code",
   "execution_count": null,
   "id": "50350f74",
   "metadata": {},
   "outputs": [],
   "source": [
    "Description_tags = driver.find_elements_by_xpath(('//div[@class=\"t-ZTKy\"]'))\n",
    "Description_tags"
   ]
  },
  {
   "cell_type": "code",
   "execution_count": null,
   "id": "122e26cf",
   "metadata": {},
   "outputs": [],
   "source": [
    "/html/body/div[1]/div/div[3]/div/div/div[2]/div[13]/div/div/nav/a[12]"
   ]
  },
  {
   "cell_type": "code",
   "execution_count": null,
   "id": "4c27b4b5",
   "metadata": {},
   "outputs": [],
   "source": [
    "clean_desc = []\n",
    "for i in Description:\n",
    "    clean_desc.append(i.replace('\\n\\n','.').replace('\\n','.'))\n",
    "clean_desc"
   ]
  },
  {
   "cell_type": "code",
   "execution_count": null,
   "id": "2eed7f2c",
   "metadata": {},
   "outputs": [],
   "source": []
  },
  {
   "cell_type": "code",
   "execution_count": null,
   "id": "d0c74d9c",
   "metadata": {},
   "outputs": [],
   "source": [
    "print(len(stars),len(title),len(Description))"
   ]
  },
  {
   "cell_type": "code",
   "execution_count": null,
   "id": "8f6a1f3c",
   "metadata": {},
   "outputs": [],
   "source": [
    "## getting the first 100 elements\n",
    "\n",
    "Brands = pd.DataFrame()\n",
    "\n",
    "Brands['Title'] = title\n",
    "Brands['Brand Description']   = clean_desc\n",
    "Brands['Rating'] =stars\n",
    "\n",
    "Brands"
   ]
  },
  {
   "cell_type": "code",
   "execution_count": null,
   "id": "f022bcf7",
   "metadata": {},
   "outputs": [],
   "source": [
    "/html/body/div[1]/div/div[3]/div/div/div[2]/div[13]/div/div/nav/a[11]"
   ]
  },
  {
   "cell_type": "code",
   "execution_count": 246,
   "id": "c53bd8d1",
   "metadata": {},
   "outputs": [],
   "source": [
    "next_button = driver.find_element_by_xpath('/html/body/div[1]/div/div[3]/div/div/div[2]/div[13]/div/div/nav/a[11]')\n",
    "next_button.click()"
   ]
  },
  {
   "cell_type": "code",
   "execution_count": 265,
   "id": "2995108b",
   "metadata": {},
   "outputs": [],
   "source": [
    "#/html/body/div/div/div[3]/div/div/div[2]/div[13]/div/div/nav/a[11]\n",
    "button_2 = driver.find_element_by_xpath('/html/body/div/div/div[3]/div/div/div[2]/div[13]/div/div/nav/a[11]')\n",
    "#button_2 = driver.find_element_by_xpath('/html/body/div/div/div[3]/div/div/div[2]/div[13]/div/div/nav/a[11]')\n",
    "button_2.click()\n",
    "\n"
   ]
  },
  {
   "cell_type": "code",
   "execution_count": 266,
   "id": "ce97066c",
   "metadata": {},
   "outputs": [],
   "source": [
    "button_3 = driver.find_element_by_xpath('/html/body/div/div/div[3]/div/div/div[2]/div[13]/div/div/nav/a[12]')\n",
    "button_3.click()"
   ]
  },
  {
   "cell_type": "code",
   "execution_count": 273,
   "id": "06b7300a",
   "metadata": {},
   "outputs": [],
   "source": [
    "#/html/body/div/div/div[3]/div/div/div[2]/div[13]/div/div/nav/a[12]\n",
    "\n",
    "button_4 = driver.find_element_by_xpath('/html/body/div/div/div[3]/div/div/div[2]/div[13]/div/div/nav/a[12]')\n",
    "button_4.click()"
   ]
  },
  {
   "cell_type": "code",
   "execution_count": null,
   "id": "90aee3f6",
   "metadata": {},
   "outputs": [],
   "source": []
  },
  {
   "cell_type": "code",
   "execution_count": 248,
   "id": "87b6888f",
   "metadata": {},
   "outputs": [
    {
     "ename": "NoSuchElementException",
     "evalue": "Message: no such element: Unable to locate element: {\"method\":\"xpath\",\"selector\":\"/html/body/div[1]/div/div[3]/div/div/div[2]/div[13]/div/div/nav/a[12]\"}\n  (Session info: chrome=97.0.4692.71)\nStacktrace:\nBacktrace:\n\tOrdinal0 [0x0116FDC3+2555331]\n\tOrdinal0 [0x011077F1+2127857]\n\tOrdinal0 [0x01002E08+1060360]\n\tOrdinal0 [0x0102E49E+1238174]\n\tOrdinal0 [0x0102E69B+1238683]\n\tOrdinal0 [0x01059252+1413714]\n\tOrdinal0 [0x01047B54+1342292]\n\tOrdinal0 [0x010575FA+1406458]\n\tOrdinal0 [0x01047976+1341814]\n\tOrdinal0 [0x010236B6+1193654]\n\tOrdinal0 [0x01024546+1197382]\n\tGetHandleVerifier [0x01309622+1619522]\n\tGetHandleVerifier [0x013B882C+2336844]\n\tGetHandleVerifier [0x012023E1+541697]\n\tGetHandleVerifier [0x01201443+537699]\n\tOrdinal0 [0x0110D18E+2150798]\n\tOrdinal0 [0x01111518+2168088]\n\tOrdinal0 [0x01111660+2168416]\n\tOrdinal0 [0x0111B330+2208560]\n\tBaseThreadInitThunk [0x760F6739+25]\n\tRtlGetFullPathName_UEx [0x777F8AFF+1215]\n\tRtlGetFullPathName_UEx [0x777F8ACD+1165]\n",
     "output_type": "error",
     "traceback": [
      "\u001b[1;31m---------------------------------------------------------------------------\u001b[0m",
      "\u001b[1;31mNoSuchElementException\u001b[0m                    Traceback (most recent call last)",
      "\u001b[1;32m<ipython-input-248-e1caa8ab1f34>\u001b[0m in \u001b[0;36m<module>\u001b[1;34m\u001b[0m\n\u001b[1;32m----> 1\u001b[1;33m \u001b[0mnext_2nd_button\u001b[0m \u001b[1;33m=\u001b[0m \u001b[0mdriver\u001b[0m\u001b[1;33m.\u001b[0m\u001b[0mfind_element_by_xpath\u001b[0m\u001b[1;33m(\u001b[0m\u001b[1;34m'/html/body/div[1]/div/div[3]/div/div/div[2]/div[13]/div/div/nav/a[12]'\u001b[0m\u001b[1;33m)\u001b[0m\u001b[1;33m\u001b[0m\u001b[1;33m\u001b[0m\u001b[0m\n\u001b[0m\u001b[0;32m      2\u001b[0m \u001b[0mnext_2nd_button\u001b[0m\u001b[1;33m.\u001b[0m\u001b[0mclick\u001b[0m\u001b[1;33m(\u001b[0m\u001b[1;33m)\u001b[0m\u001b[1;33m\u001b[0m\u001b[1;33m\u001b[0m\u001b[0m\n",
      "\u001b[1;32mC:\\ProgramData\\Anaconda3\\lib\\site-packages\\selenium\\webdriver\\remote\\webdriver.py\u001b[0m in \u001b[0;36mfind_element_by_xpath\u001b[1;34m(self, xpath)\u001b[0m\n\u001b[0;32m    518\u001b[0m             \u001b[0mstacklevel\u001b[0m\u001b[1;33m=\u001b[0m\u001b[1;36m2\u001b[0m\u001b[1;33m,\u001b[0m\u001b[1;33m\u001b[0m\u001b[1;33m\u001b[0m\u001b[0m\n\u001b[0;32m    519\u001b[0m         )\n\u001b[1;32m--> 520\u001b[1;33m         \u001b[1;32mreturn\u001b[0m \u001b[0mself\u001b[0m\u001b[1;33m.\u001b[0m\u001b[0mfind_element\u001b[0m\u001b[1;33m(\u001b[0m\u001b[0mby\u001b[0m\u001b[1;33m=\u001b[0m\u001b[0mBy\u001b[0m\u001b[1;33m.\u001b[0m\u001b[0mXPATH\u001b[0m\u001b[1;33m,\u001b[0m \u001b[0mvalue\u001b[0m\u001b[1;33m=\u001b[0m\u001b[0mxpath\u001b[0m\u001b[1;33m)\u001b[0m\u001b[1;33m\u001b[0m\u001b[1;33m\u001b[0m\u001b[0m\n\u001b[0m\u001b[0;32m    521\u001b[0m \u001b[1;33m\u001b[0m\u001b[0m\n\u001b[0;32m    522\u001b[0m     \u001b[1;32mdef\u001b[0m \u001b[0mfind_elements_by_xpath\u001b[0m\u001b[1;33m(\u001b[0m\u001b[0mself\u001b[0m\u001b[1;33m,\u001b[0m \u001b[0mxpath\u001b[0m\u001b[1;33m)\u001b[0m \u001b[1;33m->\u001b[0m \u001b[0mWebElement\u001b[0m\u001b[1;33m:\u001b[0m\u001b[1;33m\u001b[0m\u001b[1;33m\u001b[0m\u001b[0m\n",
      "\u001b[1;32mC:\\ProgramData\\Anaconda3\\lib\\site-packages\\selenium\\webdriver\\remote\\webdriver.py\u001b[0m in \u001b[0;36mfind_element\u001b[1;34m(self, by, value)\u001b[0m\n\u001b[0;32m   1242\u001b[0m             \u001b[0mvalue\u001b[0m \u001b[1;33m=\u001b[0m \u001b[1;34m'[name=\"%s\"]'\u001b[0m \u001b[1;33m%\u001b[0m \u001b[0mvalue\u001b[0m\u001b[1;33m\u001b[0m\u001b[1;33m\u001b[0m\u001b[0m\n\u001b[0;32m   1243\u001b[0m \u001b[1;33m\u001b[0m\u001b[0m\n\u001b[1;32m-> 1244\u001b[1;33m         return self.execute(Command.FIND_ELEMENT, {\n\u001b[0m\u001b[0;32m   1245\u001b[0m             \u001b[1;34m'using'\u001b[0m\u001b[1;33m:\u001b[0m \u001b[0mby\u001b[0m\u001b[1;33m,\u001b[0m\u001b[1;33m\u001b[0m\u001b[1;33m\u001b[0m\u001b[0m\n\u001b[0;32m   1246\u001b[0m             'value': value})['value']\n",
      "\u001b[1;32mC:\\ProgramData\\Anaconda3\\lib\\site-packages\\selenium\\webdriver\\remote\\webdriver.py\u001b[0m in \u001b[0;36mexecute\u001b[1;34m(self, driver_command, params)\u001b[0m\n\u001b[0;32m    422\u001b[0m         \u001b[0mresponse\u001b[0m \u001b[1;33m=\u001b[0m \u001b[0mself\u001b[0m\u001b[1;33m.\u001b[0m\u001b[0mcommand_executor\u001b[0m\u001b[1;33m.\u001b[0m\u001b[0mexecute\u001b[0m\u001b[1;33m(\u001b[0m\u001b[0mdriver_command\u001b[0m\u001b[1;33m,\u001b[0m \u001b[0mparams\u001b[0m\u001b[1;33m)\u001b[0m\u001b[1;33m\u001b[0m\u001b[1;33m\u001b[0m\u001b[0m\n\u001b[0;32m    423\u001b[0m         \u001b[1;32mif\u001b[0m \u001b[0mresponse\u001b[0m\u001b[1;33m:\u001b[0m\u001b[1;33m\u001b[0m\u001b[1;33m\u001b[0m\u001b[0m\n\u001b[1;32m--> 424\u001b[1;33m             \u001b[0mself\u001b[0m\u001b[1;33m.\u001b[0m\u001b[0merror_handler\u001b[0m\u001b[1;33m.\u001b[0m\u001b[0mcheck_response\u001b[0m\u001b[1;33m(\u001b[0m\u001b[0mresponse\u001b[0m\u001b[1;33m)\u001b[0m\u001b[1;33m\u001b[0m\u001b[1;33m\u001b[0m\u001b[0m\n\u001b[0m\u001b[0;32m    425\u001b[0m             response['value'] = self._unwrap_value(\n\u001b[0;32m    426\u001b[0m                 response.get('value', None))\n",
      "\u001b[1;32mC:\\ProgramData\\Anaconda3\\lib\\site-packages\\selenium\\webdriver\\remote\\errorhandler.py\u001b[0m in \u001b[0;36mcheck_response\u001b[1;34m(self, response)\u001b[0m\n\u001b[0;32m    245\u001b[0m                 \u001b[0malert_text\u001b[0m \u001b[1;33m=\u001b[0m \u001b[0mvalue\u001b[0m\u001b[1;33m[\u001b[0m\u001b[1;34m'alert'\u001b[0m\u001b[1;33m]\u001b[0m\u001b[1;33m.\u001b[0m\u001b[0mget\u001b[0m\u001b[1;33m(\u001b[0m\u001b[1;34m'text'\u001b[0m\u001b[1;33m)\u001b[0m\u001b[1;33m\u001b[0m\u001b[1;33m\u001b[0m\u001b[0m\n\u001b[0;32m    246\u001b[0m             \u001b[1;32mraise\u001b[0m \u001b[0mexception_class\u001b[0m\u001b[1;33m(\u001b[0m\u001b[0mmessage\u001b[0m\u001b[1;33m,\u001b[0m \u001b[0mscreen\u001b[0m\u001b[1;33m,\u001b[0m \u001b[0mstacktrace\u001b[0m\u001b[1;33m,\u001b[0m \u001b[0malert_text\u001b[0m\u001b[1;33m)\u001b[0m  \u001b[1;31m# type: ignore[call-arg]  # mypy is not smart enough here\u001b[0m\u001b[1;33m\u001b[0m\u001b[1;33m\u001b[0m\u001b[0m\n\u001b[1;32m--> 247\u001b[1;33m         \u001b[1;32mraise\u001b[0m \u001b[0mexception_class\u001b[0m\u001b[1;33m(\u001b[0m\u001b[0mmessage\u001b[0m\u001b[1;33m,\u001b[0m \u001b[0mscreen\u001b[0m\u001b[1;33m,\u001b[0m \u001b[0mstacktrace\u001b[0m\u001b[1;33m)\u001b[0m\u001b[1;33m\u001b[0m\u001b[1;33m\u001b[0m\u001b[0m\n\u001b[0m\u001b[0;32m    248\u001b[0m \u001b[1;33m\u001b[0m\u001b[0m\n\u001b[0;32m    249\u001b[0m     \u001b[1;32mdef\u001b[0m \u001b[0m_value_or_default\u001b[0m\u001b[1;33m(\u001b[0m\u001b[0mself\u001b[0m\u001b[1;33m,\u001b[0m \u001b[0mobj\u001b[0m\u001b[1;33m:\u001b[0m \u001b[0mMapping\u001b[0m\u001b[1;33m[\u001b[0m\u001b[0m_KT\u001b[0m\u001b[1;33m,\u001b[0m \u001b[0m_VT\u001b[0m\u001b[1;33m]\u001b[0m\u001b[1;33m,\u001b[0m \u001b[0mkey\u001b[0m\u001b[1;33m:\u001b[0m \u001b[0m_KT\u001b[0m\u001b[1;33m,\u001b[0m \u001b[0mdefault\u001b[0m\u001b[1;33m:\u001b[0m \u001b[0m_VT\u001b[0m\u001b[1;33m)\u001b[0m \u001b[1;33m->\u001b[0m \u001b[0m_VT\u001b[0m\u001b[1;33m:\u001b[0m\u001b[1;33m\u001b[0m\u001b[1;33m\u001b[0m\u001b[0m\n",
      "\u001b[1;31mNoSuchElementException\u001b[0m: Message: no such element: Unable to locate element: {\"method\":\"xpath\",\"selector\":\"/html/body/div[1]/div/div[3]/div/div/div[2]/div[13]/div/div/nav/a[12]\"}\n  (Session info: chrome=97.0.4692.71)\nStacktrace:\nBacktrace:\n\tOrdinal0 [0x0116FDC3+2555331]\n\tOrdinal0 [0x011077F1+2127857]\n\tOrdinal0 [0x01002E08+1060360]\n\tOrdinal0 [0x0102E49E+1238174]\n\tOrdinal0 [0x0102E69B+1238683]\n\tOrdinal0 [0x01059252+1413714]\n\tOrdinal0 [0x01047B54+1342292]\n\tOrdinal0 [0x010575FA+1406458]\n\tOrdinal0 [0x01047976+1341814]\n\tOrdinal0 [0x010236B6+1193654]\n\tOrdinal0 [0x01024546+1197382]\n\tGetHandleVerifier [0x01309622+1619522]\n\tGetHandleVerifier [0x013B882C+2336844]\n\tGetHandleVerifier [0x012023E1+541697]\n\tGetHandleVerifier [0x01201443+537699]\n\tOrdinal0 [0x0110D18E+2150798]\n\tOrdinal0 [0x01111518+2168088]\n\tOrdinal0 [0x01111660+2168416]\n\tOrdinal0 [0x0111B330+2208560]\n\tBaseThreadInitThunk [0x760F6739+25]\n\tRtlGetFullPathName_UEx [0x777F8AFF+1215]\n\tRtlGetFullPathName_UEx [0x777F8ACD+1165]\n"
     ]
    }
   ],
   "source": [
    "next_2nd_button = driver.find_element_by_xpath('/html/body/div[1]/div/div[3]/div/div/div[2]/div[13]/div/div/nav/a[12]')\n",
    "next_2nd_button.click()"
   ]
  },
  {
   "cell_type": "code",
   "execution_count": null,
   "id": "580bf7ca",
   "metadata": {},
   "outputs": [],
   "source": []
  },
  {
   "cell_type": "code",
   "execution_count": null,
   "id": "cfb1726f",
   "metadata": {},
   "outputs": [],
   "source": [
    " if(count == 0):\n",
    "    next_button = driver.find_element_by_xpath('/html/body/div[1]/div/div[3]/div/div/div[2]/div[13]/div/div/nav/a[11]')\n",
    "    next_button.click()\n",
    "if(count>0):\n",
    "    next_2nd_button = driver.find_element_by_xpath('/html/body/div[1]/div/div[3]/div/div/div[2]/div[13]/div/div/nav/a[12]')\n",
    "    print(next_2nd_button)\n",
    "    next_2nd_button.click()"
   ]
  }
 ],
 "metadata": {
  "kernelspec": {
   "display_name": "Python 3",
   "language": "python",
   "name": "python3"
  },
  "language_info": {
   "codemirror_mode": {
    "name": "ipython",
    "version": 3
   },
   "file_extension": ".py",
   "mimetype": "text/x-python",
   "name": "python",
   "nbconvert_exporter": "python",
   "pygments_lexer": "ipython3",
   "version": "3.8.8"
  }
 },
 "nbformat": 4,
 "nbformat_minor": 5
}
