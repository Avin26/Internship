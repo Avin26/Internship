{
 "cells": [
  {
   "cell_type": "markdown",
   "id": "93a0d971",
   "metadata": {},
   "source": [
    "Q4. Scrape data of first 100 sunglasses listings on flipkart.com. You have to scrape four attributes\n",
    "1. Brand\n",
    "2. Product Description\n",
    "3. Price"
   ]
  },
  {
   "cell_type": "code",
   "execution_count": 35,
   "id": "5d77c822",
   "metadata": {},
   "outputs": [],
   "source": [
    "# Let's import all required libraries\n",
    "import selenium\n",
    "from selenium import webdriver\n",
    "import pandas as pd\n",
    "import warnings\n",
    "warnings.filterwarnings('ignore')"
   ]
  },
  {
   "cell_type": "markdown",
   "id": "1c69ecd3",
   "metadata": {},
   "source": [
    "# Let's import all required libraries\n",
    "import selenium\n",
    "from selenium import webdriver\n",
    "import pandas as pd\n",
    "import warnings\n",
    "warnings.filterwarnings('ignore')"
   ]
  },
  {
   "cell_type": "markdown",
   "id": "fedbcaca",
   "metadata": {},
   "source": [
    "Q3. scrape data for “Data Scientist” designation for first 10 job results"
   ]
  },
  {
   "cell_type": "code",
   "execution_count": 36,
   "id": "d8c63960",
   "metadata": {},
   "outputs": [],
   "source": [
    "# Let's first connect to the web driver\n",
    "driver = webdriver.Chrome(r\"C:\\Users\\avina\\Desktop\\Web Driver\\chromedriver_win32\\chromedriver.exe\")"
   ]
  },
  {
   "cell_type": "code",
   "execution_count": 37,
   "id": "1f611a36",
   "metadata": {
    "scrolled": false
   },
   "outputs": [],
   "source": [
    "url = 'https://www.naukri.com/'\n",
    "driver.get(url)"
   ]
  },
  {
   "cell_type": "code",
   "execution_count": 38,
   "id": "c361c120",
   "metadata": {},
   "outputs": [],
   "source": [
    "# finding web element for search job using id\n",
    "search_job = driver.find_element_by_xpath('/html/body/div/div[2]/div[3]/div/div/div[1]/div/div/div/input')\n",
    "search_job\n",
    "\n",
    "# write on search bar\n",
    "search_job.send_keys('Data Scientist')"
   ]
  },
  {
   "cell_type": "markdown",
   "id": "8437104d",
   "metadata": {
    "scrolled": true
   },
   "source": [
    "# finding web element for search job using id\n",
    "search_job = driver.find_element_by_id('qsb-keyword-sugg')\n",
    "search_job"
   ]
  },
  {
   "cell_type": "markdown",
   "id": "de7d615d",
   "metadata": {},
   "source": [
    "# write on search bar\n",
    "search_job.send_keys('Data Scientist')"
   ]
  },
  {
   "cell_type": "code",
   "execution_count": 39,
   "id": "4076ddf6",
   "metadata": {},
   "outputs": [],
   "source": [
    "# clicking using absolute xpath function\n",
    "search_btn = driver.find_element_by_xpath('/html/body/div/div[2]/div[3]/div/div/div[6]')\n"
   ]
  },
  {
   "cell_type": "code",
   "execution_count": 40,
   "id": "28cccca7",
   "metadata": {},
   "outputs": [],
   "source": [
    "search_btn.click()"
   ]
  },
  {
   "cell_type": "code",
   "execution_count": 63,
   "id": "072ba877",
   "metadata": {},
   "outputs": [],
   "source": [
    "## Aplying Location filter"
   ]
  },
  {
   "cell_type": "code",
   "execution_count": 41,
   "id": "9d24262e",
   "metadata": {},
   "outputs": [],
   "source": [
    "location_check = driver.find_element_by_xpath('/html/body/div[1]/div[3]/div[2]/section[1]/div[2]/div[3]/div[2]/div[3]/label/p/span[1]')"
   ]
  },
  {
   "cell_type": "code",
   "execution_count": 42,
   "id": "e62bd85c",
   "metadata": {},
   "outputs": [],
   "source": [
    "location_check.click()"
   ]
  },
  {
   "cell_type": "code",
   "execution_count": 43,
   "id": "0edde1d9",
   "metadata": {},
   "outputs": [],
   "source": [
    "##salary_check =\n",
    "salary_check = driver.find_element_by_xpath('/html/body/div[1]/div[3]/div[2]/section[1]/div[2]/div[4]/div[2]/div[2]/label/p/span[1]')"
   ]
  },
  {
   "cell_type": "code",
   "execution_count": 44,
   "id": "65ce5d6b",
   "metadata": {},
   "outputs": [],
   "source": [
    "salary_check.click()"
   ]
  },
  {
   "cell_type": "markdown",
   "id": "62313060",
   "metadata": {},
   "source": [
    "## Now let's first create 4 empty lists. In these lists the data will be stored while scrapping"
   ]
  },
  {
   "cell_type": "markdown",
   "id": "32d9f710",
   "metadata": {},
   "source": [
    "## Extracting job titles"
   ]
  },
  {
   "cell_type": "code",
   "execution_count": 45,
   "id": "fdf98c01",
   "metadata": {},
   "outputs": [
    {
     "data": {
      "text/plain": [
       "20"
      ]
     },
     "execution_count": 45,
     "metadata": {},
     "output_type": "execute_result"
    }
   ],
   "source": [
    "# Let's extract all web elements having job titles\n",
    "title_tags = driver.find_elements_by_xpath('//a[@class=\"title fw500 ellipsis\"]')\n",
    "len(title_tags)"
   ]
  },
  {
   "cell_type": "code",
   "execution_count": 46,
   "id": "e5484d00",
   "metadata": {},
   "outputs": [
    {
     "data": {
      "text/plain": [
       "20"
      ]
     },
     "execution_count": 46,
     "metadata": {},
     "output_type": "execute_result"
    }
   ],
   "source": [
    "# Now the text of job title is oinside the web elements extracted above\n",
    "# so we will run a for loops to iterate over the tags and will extract text from title tags\n",
    "\n",
    "job_titles = []\n",
    "\n",
    "for i in title_tags:\n",
    "    job_titles.append(i.text)\n",
    "len(job_titles)\n",
    "#job_titles[0:2]"
   ]
  },
  {
   "cell_type": "markdown",
   "id": "9b49ce06",
   "metadata": {},
   "source": [
    "## Extracting comapny Name"
   ]
  },
  {
   "cell_type": "code",
   "execution_count": 47,
   "id": "278511a5",
   "metadata": {},
   "outputs": [
    {
     "data": {
      "text/plain": [
       "20"
      ]
     },
     "execution_count": 47,
     "metadata": {},
     "output_type": "execute_result"
    }
   ],
   "source": [
    "# Let's extract all web elements having company name\n",
    "company_tags = driver.find_elements_by_xpath('//a[@class=\"subTitle ellipsis fleft\"]')\n",
    "len(company_tags)"
   ]
  },
  {
   "cell_type": "code",
   "execution_count": 20,
   "id": "e4a40cfd",
   "metadata": {},
   "outputs": [
    {
     "data": {
      "text/plain": [
       "20"
      ]
     },
     "execution_count": 20,
     "metadata": {},
     "output_type": "execute_result"
    }
   ],
   "source": [
    "# Geeting the company name\n",
    "\n",
    "company_titles = []\n",
    "\n",
    "for i in company_tags:\n",
    "    company_titles.append(i.text)\n",
    "len(company_titles)\n",
    "#company_titles[0:2]"
   ]
  },
  {
   "cell_type": "markdown",
   "id": "05e7d307",
   "metadata": {},
   "source": [
    "## Extracting experience"
   ]
  },
  {
   "cell_type": "code",
   "execution_count": 21,
   "id": "f8d3d0b2",
   "metadata": {},
   "outputs": [
    {
     "data": {
      "text/plain": [
       "20"
      ]
     },
     "execution_count": 21,
     "metadata": {},
     "output_type": "execute_result"
    }
   ],
   "source": [
    "## Let's extract all elements having experience using parent tag\n",
    "exp_tags = driver.find_elements_by_xpath('//li[@class=\"fleft grey-text br2 placeHolderLi experience\"]')\n",
    "len(exp_tags)"
   ]
  },
  {
   "cell_type": "code",
   "execution_count": 22,
   "id": "e27d31ba",
   "metadata": {},
   "outputs": [
    {
     "data": {
      "text/plain": [
       "20"
      ]
     },
     "execution_count": 22,
     "metadata": {},
     "output_type": "execute_result"
    }
   ],
   "source": [
    "experience = []\n",
    "\n",
    "for i in exp_tags:\n",
    "    experience.append(i.text)\n",
    "len(experience)\n",
    "#experience[0:2]"
   ]
  },
  {
   "cell_type": "markdown",
   "id": "d9dbce7d",
   "metadata": {},
   "source": [
    "## Extracting location"
   ]
  },
  {
   "cell_type": "code",
   "execution_count": 23,
   "id": "78cab8c7",
   "metadata": {},
   "outputs": [
    {
     "data": {
      "text/plain": [
       "20"
      ]
     },
     "execution_count": 23,
     "metadata": {},
     "output_type": "execute_result"
    }
   ],
   "source": [
    "locn_tags = driver.find_elements_by_xpath('//li[@class=\"fleft grey-text br2 placeHolderLi location\"]')\n",
    "len(locn_tags)"
   ]
  },
  {
   "cell_type": "code",
   "execution_count": 24,
   "id": "fa9f4867",
   "metadata": {},
   "outputs": [
    {
     "data": {
      "text/plain": [
       "20"
      ]
     },
     "execution_count": 24,
     "metadata": {},
     "output_type": "execute_result"
    }
   ],
   "source": [
    "location = []\n",
    "for i in locn_tags:\n",
    "    location.append(i.text)\n",
    "len(location)\n",
    "##location[0:2]"
   ]
  },
  {
   "cell_type": "code",
   "execution_count": 25,
   "id": "62abc3e3",
   "metadata": {
    "scrolled": true
   },
   "outputs": [
    {
     "data": {
      "text/plain": [
       "(20, 20, 20, 20)"
      ]
     },
     "execution_count": 25,
     "metadata": {},
     "output_type": "execute_result"
    }
   ],
   "source": [
    "len(job_titles),len(company_titles),len(experience),len(location)"
   ]
  },
  {
   "cell_type": "code",
   "execution_count": 26,
   "id": "6587d15b",
   "metadata": {
    "scrolled": true
   },
   "outputs": [
    {
     "data": {
      "text/html": [
       "<div>\n",
       "<style scoped>\n",
       "    .dataframe tbody tr th:only-of-type {\n",
       "        vertical-align: middle;\n",
       "    }\n",
       "\n",
       "    .dataframe tbody tr th {\n",
       "        vertical-align: top;\n",
       "    }\n",
       "\n",
       "    .dataframe thead th {\n",
       "        text-align: right;\n",
       "    }\n",
       "</style>\n",
       "<table border=\"1\" class=\"dataframe\">\n",
       "  <thead>\n",
       "    <tr style=\"text-align: right;\">\n",
       "      <th></th>\n",
       "      <th>Job title</th>\n",
       "      <th>Company</th>\n",
       "      <th>Experience</th>\n",
       "      <th>Location</th>\n",
       "    </tr>\n",
       "  </thead>\n",
       "  <tbody>\n",
       "    <tr>\n",
       "      <th>0</th>\n",
       "      <td>Data Scientist / Senior DS/ Team Lead</td>\n",
       "      <td>NebulARC Technologies Private Limited</td>\n",
       "      <td>0-4 Yrs</td>\n",
       "      <td>Mumbai, Gurgaon/Gurugram(Cyber City +1)</td>\n",
       "    </tr>\n",
       "    <tr>\n",
       "      <th>1</th>\n",
       "      <td>Job Opportunity || Data Scientist || HCL Techn...</td>\n",
       "      <td>HCL</td>\n",
       "      <td>2-6 Yrs</td>\n",
       "      <td>Delhi / NCR</td>\n",
       "    </tr>\n",
       "    <tr>\n",
       "      <th>2</th>\n",
       "      <td>Hiring For Data Analyst / Data Scientist</td>\n",
       "      <td>Careerera</td>\n",
       "      <td>2-5 Yrs</td>\n",
       "      <td>Noida(Sector-59 Noida)</td>\n",
       "    </tr>\n",
       "    <tr>\n",
       "      <th>3</th>\n",
       "      <td>Senior Data Scientist I</td>\n",
       "      <td>Delhivery</td>\n",
       "      <td>3-7 Yrs</td>\n",
       "      <td>Gurgaon/Gurugram</td>\n",
       "    </tr>\n",
       "    <tr>\n",
       "      <th>4</th>\n",
       "      <td>Data Scientist</td>\n",
       "      <td>Core Diagnostics Private Limited</td>\n",
       "      <td>2-7 Yrs</td>\n",
       "      <td>Gurgaon/Gurugram(Uday Nagar)</td>\n",
       "    </tr>\n",
       "    <tr>\n",
       "      <th>5</th>\n",
       "      <td>Data Scientist | Python | Machine Learning | D...</td>\n",
       "      <td>Schlesinger Group</td>\n",
       "      <td>0-3 Yrs</td>\n",
       "      <td>Noida, Gurgaon/Gurugram, Delhi / NCR</td>\n",
       "    </tr>\n",
       "    <tr>\n",
       "      <th>6</th>\n",
       "      <td>Openings For Jr/mid/Sr level data Scientists</td>\n",
       "      <td>Pluto seven business solutions (p) limited</td>\n",
       "      <td>2-6 Yrs</td>\n",
       "      <td>Kolkata, Hyderabad/Secunderabad, Pune, Ahmedab...</td>\n",
       "    </tr>\n",
       "    <tr>\n",
       "      <th>7</th>\n",
       "      <td>Data Scientist</td>\n",
       "      <td>T &amp; A Solutions</td>\n",
       "      <td>2-6 Yrs</td>\n",
       "      <td>Gurgaon/Gurugram</td>\n",
       "    </tr>\n",
       "    <tr>\n",
       "      <th>8</th>\n",
       "      <td>Urgent Hiring For Data Scientist</td>\n",
       "      <td>Mount Talent Consulting Private Limited</td>\n",
       "      <td>1-6 Yrs</td>\n",
       "      <td>Gurgaon/Gurugram, Bangalore/Bengaluru</td>\n",
       "    </tr>\n",
       "    <tr>\n",
       "      <th>9</th>\n",
       "      <td>Urgent Hiring For Data Scientist</td>\n",
       "      <td>Mount Talent Consulting Private Limited</td>\n",
       "      <td>1-6 Yrs</td>\n",
       "      <td>Gurgaon/Gurugram, Bangalore/Bengaluru</td>\n",
       "    </tr>\n",
       "  </tbody>\n",
       "</table>\n",
       "</div>"
      ],
      "text/plain": [
       "                                           Job title  \\\n",
       "0              Data Scientist / Senior DS/ Team Lead   \n",
       "1  Job Opportunity || Data Scientist || HCL Techn...   \n",
       "2           Hiring For Data Analyst / Data Scientist   \n",
       "3                            Senior Data Scientist I   \n",
       "4                                     Data Scientist   \n",
       "5  Data Scientist | Python | Machine Learning | D...   \n",
       "6       Openings For Jr/mid/Sr level data Scientists   \n",
       "7                                     Data Scientist   \n",
       "8                   Urgent Hiring For Data Scientist   \n",
       "9                   Urgent Hiring For Data Scientist   \n",
       "\n",
       "                                      Company Experience  \\\n",
       "0       NebulARC Technologies Private Limited    0-4 Yrs   \n",
       "1                                         HCL    2-6 Yrs   \n",
       "2                                   Careerera    2-5 Yrs   \n",
       "3                                   Delhivery    3-7 Yrs   \n",
       "4            Core Diagnostics Private Limited    2-7 Yrs   \n",
       "5                           Schlesinger Group    0-3 Yrs   \n",
       "6  Pluto seven business solutions (p) limited    2-6 Yrs   \n",
       "7                             T & A Solutions    2-6 Yrs   \n",
       "8     Mount Talent Consulting Private Limited    1-6 Yrs   \n",
       "9     Mount Talent Consulting Private Limited    1-6 Yrs   \n",
       "\n",
       "                                            Location  \n",
       "0            Mumbai, Gurgaon/Gurugram(Cyber City +1)  \n",
       "1                                        Delhi / NCR  \n",
       "2                             Noida(Sector-59 Noida)  \n",
       "3                                   Gurgaon/Gurugram  \n",
       "4                       Gurgaon/Gurugram(Uday Nagar)  \n",
       "5               Noida, Gurgaon/Gurugram, Delhi / NCR  \n",
       "6  Kolkata, Hyderabad/Secunderabad, Pune, Ahmedab...  \n",
       "7                                   Gurgaon/Gurugram  \n",
       "8              Gurgaon/Gurugram, Bangalore/Bengaluru  \n",
       "9              Gurgaon/Gurugram, Bangalore/Bengaluru  "
      ]
     },
     "execution_count": 26,
     "metadata": {},
     "output_type": "execute_result"
    }
   ],
   "source": [
    "## getting the first 10 elements\n",
    "\n",
    "jobs = pd.DataFrame()\n",
    "\n",
    "jobs['Job title'] = job_titles[0:10]\n",
    "jobs['Company']   = company_titles[0:10]\n",
    "jobs['Experience'] = experience[0:10]\n",
    "jobs['Location']   = location[0:10]\n",
    "\n",
    "jobs"
   ]
  },
  {
   "cell_type": "code",
   "execution_count": null,
   "id": "b9e9e152",
   "metadata": {},
   "outputs": [],
   "source": []
  }
 ],
 "metadata": {
  "kernelspec": {
   "display_name": "Python 3",
   "language": "python",
   "name": "python3"
  },
  "language_info": {
   "codemirror_mode": {
    "name": "ipython",
    "version": 3
   },
   "file_extension": ".py",
   "mimetype": "text/x-python",
   "name": "python",
   "nbconvert_exporter": "python",
   "pygments_lexer": "ipython3",
   "version": "3.8.8"
  }
 },
 "nbformat": 4,
 "nbformat_minor": 5
}
