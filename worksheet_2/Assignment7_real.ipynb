{
 "cells": [
  {
   "cell_type": "code",
   "execution_count": 5,
   "id": "07c24ae0",
   "metadata": {},
   "outputs": [],
   "source": [
    "# Let's import all required libraries\n",
    "import selenium\n",
    "from selenium import webdriver\n",
    "import pandas as pd\n",
    "import warnings\n",
    "warnings.filterwarnings('ignore')\n",
    "\n",
    "\n",
    "# Let's first connect to the web driver\n",
    "driver = webdriver.Chrome(r\"C:\\Users\\avina\\Desktop\\Web Driver\\chromedriver_win32\\chromedriver.exe\")\n",
    "\n",
    "url = 'http://www.myntra.com/shoes'\n",
    "driver.get(url)"
   ]
  },
  {
   "cell_type": "code",
   "execution_count": 8,
   "id": "fcf07acc",
   "metadata": {},
   "outputs": [],
   "source": [
    "# setting thr color black\n",
    "filter_color = driver.find_element_by_xpath('/html/body/div[2]/div/div[1]/main/div[3]/div[1]/section/div/div[6]/ul/li[1]/label')\n",
    "filter_color.click()"
   ]
  },
  {
   "cell_type": "code",
   "execution_count": 9,
   "id": "7b4ad9ee",
   "metadata": {},
   "outputs": [],
   "source": [
    "# Setting the price filter\n",
    "\n",
    "filter_button = driver.find_element_by_xpath('/html/body/div[2]/div/div[1]/main/div[3]/div[1]/section/div/div[5]/ul/li[2]/label')\n",
    "filter_button\n",
    "filter_button.click()"
   ]
  },
  {
   "cell_type": "markdown",
   "id": "0bab9344",
   "metadata": {},
   "source": [
    "## Scarpping the Data from Ist Page"
   ]
  },
  {
   "cell_type": "code",
   "execution_count": 10,
   "id": "f243afcf",
   "metadata": {},
   "outputs": [
    {
     "data": {
      "text/plain": [
       "['Street Style Store',\n",
       " 'Newfeel By Decathlon',\n",
       " 'U.S. Polo Assn.',\n",
       " 'HRX by Hrithik Roshan',\n",
       " 'Mactree',\n",
       " 'U.S. Polo Assn.',\n",
       " 'Red Tape',\n",
       " 'HRX by Hrithik Roshan',\n",
       " 'HIGHLANDER',\n",
       " 'HRX by Hrithik Roshan',\n",
       " 'Anouk',\n",
       " 'U.S. Polo Assn.',\n",
       " 'Nike',\n",
       " 'Woakers',\n",
       " 'AfroJack',\n",
       " 'TWIN TOES',\n",
       " 'MENGLER',\n",
       " 'HRX by Hrithik Roshan',\n",
       " 'Alishtezia',\n",
       " 'HRX by Hrithik Roshan',\n",
       " 'mr.wonker',\n",
       " 'Nike',\n",
       " 'Woodland',\n",
       " 'ZAPATOZ',\n",
       " 'ZAPATOZ',\n",
       " 'U.S. Polo Assn.',\n",
       " 'Puma',\n",
       " 'Newfeel By Decathlon',\n",
       " 'Red Tape',\n",
       " 'DressBerry',\n",
       " 'one8 x PUMA',\n",
       " 'Fentacia',\n",
       " 'HRX by Hrithik Roshan',\n",
       " 'El Paso',\n",
       " 'HRX by Hrithik Roshan',\n",
       " 'HIGHLANDER',\n",
       " 'Woodland',\n",
       " 'Anouk',\n",
       " 'HRX by Hrithik Roshan',\n",
       " 'Ducati',\n",
       " 'AfroJack',\n",
       " 'Bond Street By Red Tape',\n",
       " 'Fentacia',\n",
       " 'Red Tape',\n",
       " 'Sir Corbett',\n",
       " 'Campus',\n",
       " 'Mactree',\n",
       " 'HRX by Hrithik Roshan',\n",
       " 'Puma',\n",
       " 'U.S. Polo Assn.']"
      ]
     },
     "execution_count": 10,
     "metadata": {},
     "output_type": "execute_result"
    }
   ],
   "source": [
    "# Product tag from Ist page\n",
    "\n",
    "Product_tags = driver.find_elements_by_xpath('//h3[@class=\"product-brand\"]')\n",
    "\n",
    "Product = []  # empty product list\n",
    "for i in Product_tags:\n",
    "    Product.append(i.text)\n",
    "Product"
   ]
  },
  {
   "cell_type": "code",
   "execution_count": 12,
   "id": "6adefabc",
   "metadata": {},
   "outputs": [
    {
     "data": {
      "text/plain": [
       "50"
      ]
     },
     "execution_count": 12,
     "metadata": {},
     "output_type": "execute_result"
    }
   ],
   "source": [
    "# Extracting the Description\n",
    "\n",
    "Descsription_tags = driver.find_elements_by_xpath('//h4[@class=\"product-product\"]')\n",
    "\n",
    "\n",
    "Description = [] # empty description list\n",
    "\n",
    "\n",
    "#Product = []\n",
    "for i in Descsription_tags:\n",
    "    Description.append(i.text)\n",
    "Description\n",
    "len(Description)\n"
   ]
  },
  {
   "cell_type": "code",
   "execution_count": 13,
   "id": "bee01cba",
   "metadata": {
    "scrolled": true
   },
   "outputs": [
    {
     "data": {
      "text/plain": [
       "50"
      ]
     },
     "execution_count": 13,
     "metadata": {},
     "output_type": "execute_result"
    }
   ],
   "source": [
    "# Extracting the Price from the Ist Page\n",
    "\n",
    "Price_tags = driver.find_elements_by_xpath('//div[@class=\"product-price\"]/span[1]')\n",
    "\n",
    "\n",
    "Price = []  # creating an empty price list\n",
    "for i in Price_tags:\n",
    "    Price.append(i.text)\n",
    "len(Price)"
   ]
  },
  {
   "cell_type": "code",
   "execution_count": 14,
   "id": "f71b219d",
   "metadata": {},
   "outputs": [],
   "source": [
    "# next Button\n",
    "Next_btn = driver.find_element_by_xpath('/html/body/div[2]/div/div/main/div[3]/div[2]/div/div[2]/section/div[2]/ul/li[12]/a')\n",
    "Next_btn.click()\n"
   ]
  },
  {
   "cell_type": "code",
   "execution_count": 15,
   "id": "0655226f",
   "metadata": {},
   "outputs": [],
   "source": [
    "# Extracting the data from 2nd Page"
   ]
  },
  {
   "cell_type": "code",
   "execution_count": 16,
   "id": "a6ca2f3c",
   "metadata": {},
   "outputs": [
    {
     "data": {
      "text/plain": [
       "['Street Style Store',\n",
       " 'Newfeel By Decathlon',\n",
       " 'U.S. Polo Assn.',\n",
       " 'HRX by Hrithik Roshan',\n",
       " 'Mactree',\n",
       " 'U.S. Polo Assn.',\n",
       " 'Red Tape',\n",
       " 'HRX by Hrithik Roshan',\n",
       " 'HIGHLANDER',\n",
       " 'HRX by Hrithik Roshan',\n",
       " 'Anouk',\n",
       " 'U.S. Polo Assn.',\n",
       " 'Nike',\n",
       " 'Woakers',\n",
       " 'AfroJack',\n",
       " 'TWIN TOES',\n",
       " 'MENGLER',\n",
       " 'HRX by Hrithik Roshan',\n",
       " 'Alishtezia',\n",
       " 'HRX by Hrithik Roshan',\n",
       " 'mr.wonker',\n",
       " 'Nike',\n",
       " 'Woodland',\n",
       " 'ZAPATOZ',\n",
       " 'ZAPATOZ',\n",
       " 'U.S. Polo Assn.',\n",
       " 'Puma',\n",
       " 'Newfeel By Decathlon',\n",
       " 'Red Tape',\n",
       " 'DressBerry',\n",
       " 'one8 x PUMA',\n",
       " 'Fentacia',\n",
       " 'HRX by Hrithik Roshan',\n",
       " 'El Paso',\n",
       " 'HRX by Hrithik Roshan',\n",
       " 'HIGHLANDER',\n",
       " 'Woodland',\n",
       " 'Anouk',\n",
       " 'HRX by Hrithik Roshan',\n",
       " 'Ducati',\n",
       " 'AfroJack',\n",
       " 'Bond Street By Red Tape',\n",
       " 'Fentacia',\n",
       " 'Red Tape',\n",
       " 'Sir Corbett',\n",
       " 'Campus',\n",
       " 'Mactree',\n",
       " 'HRX by Hrithik Roshan',\n",
       " 'Puma',\n",
       " 'U.S. Polo Assn.',\n",
       " 'U.S. Polo Assn.',\n",
       " 'U.S. Polo Assn.',\n",
       " 'Kalenji By Decathlon',\n",
       " 'HRX by Hrithik Roshan',\n",
       " 'SUBEA By Decathlon',\n",
       " 'Anouk',\n",
       " 'Fentacia',\n",
       " 'Red Tape',\n",
       " 'HRX by Hrithik Roshan',\n",
       " 'one8 x PUMA',\n",
       " 'U.S. Polo Assn.',\n",
       " 'DEAS',\n",
       " 'Puma',\n",
       " 'HRX by Hrithik Roshan',\n",
       " 'Vishudh',\n",
       " 'El Paso',\n",
       " 'TWIN TOES',\n",
       " 'Puma',\n",
       " 'Eego Italy',\n",
       " 'U.S. Polo Assn.',\n",
       " 'AfroJack',\n",
       " 'HIGHLANDER',\n",
       " 'Red Tape',\n",
       " 'AfroJack',\n",
       " 'DressBerry',\n",
       " 'HIGHLANDER',\n",
       " 'Mactree',\n",
       " 'House of Pataudi',\n",
       " 'U.S. Polo Assn.',\n",
       " 'Mactree',\n",
       " 'Puma',\n",
       " 'Puma',\n",
       " 'HRX by Hrithik Roshan',\n",
       " 'Quechua By Decathlon',\n",
       " 'Red Tape',\n",
       " 'Red Tape',\n",
       " 'Ducati',\n",
       " 'Fentacia',\n",
       " 'Mactree',\n",
       " 'Campus',\n",
       " 'Provogue',\n",
       " 'El Paso',\n",
       " 'HRX by Hrithik Roshan',\n",
       " 'U.S. Polo Assn.',\n",
       " 'AfroJack',\n",
       " 'El Paso',\n",
       " 'Nike',\n",
       " 'Roadster',\n",
       " 'Puma',\n",
       " 'HIGHLANDER']"
      ]
     },
     "execution_count": 16,
     "metadata": {},
     "output_type": "execute_result"
    }
   ],
   "source": [
    "# Product tag from Ist page\n",
    "\n",
    "Product_tags = driver.find_elements_by_xpath('//h3[@class=\"product-brand\"]')\n",
    "\n",
    "#Product = []  # empty product list\n",
    "for i in Product_tags:\n",
    "    Product.append(i.text)\n",
    "Product"
   ]
  },
  {
   "cell_type": "code",
   "execution_count": 17,
   "id": "2d17f19c",
   "metadata": {},
   "outputs": [
    {
     "data": {
      "text/plain": [
       "100"
      ]
     },
     "execution_count": 17,
     "metadata": {},
     "output_type": "execute_result"
    }
   ],
   "source": [
    "# Extracting the Description\n",
    "\n",
    "Descsription_tags = driver.find_elements_by_xpath('//h4[@class=\"product-product\"]')\n",
    "\n",
    "\n",
    "#Description = [] # empty description list\n",
    "\n",
    "\n",
    "#Product = []\n",
    "for i in Descsription_tags:\n",
    "    Description.append(i.text)\n",
    "Description\n",
    "len(Description)\n"
   ]
  },
  {
   "cell_type": "code",
   "execution_count": 18,
   "id": "aa6bb96a",
   "metadata": {
    "scrolled": true
   },
   "outputs": [
    {
     "data": {
      "text/plain": [
       "100"
      ]
     },
     "execution_count": 18,
     "metadata": {},
     "output_type": "execute_result"
    }
   ],
   "source": [
    "# Extracting the Price from the Ist Page\n",
    "\n",
    "Price_tags = driver.find_elements_by_xpath('//div[@class=\"product-price\"]/span[1]')\n",
    "\n",
    "\n",
    "#Price = []  # creating an empty price list\n",
    "for i in Price_tags:\n",
    "    Price.append(i.text)\n",
    "len(Price)"
   ]
  },
  {
   "cell_type": "code",
   "execution_count": null,
   "id": "139f9549",
   "metadata": {},
   "outputs": [],
   "source": []
  },
  {
   "cell_type": "code",
   "execution_count": null,
   "id": "53eca94e",
   "metadata": {},
   "outputs": [],
   "source": []
  },
  {
   "cell_type": "code",
   "execution_count": null,
   "id": "f0a37a28",
   "metadata": {},
   "outputs": [],
   "source": []
  },
  {
   "cell_type": "code",
   "execution_count": null,
   "id": "00b71d92",
   "metadata": {},
   "outputs": [],
   "source": []
  },
  {
   "cell_type": "code",
   "execution_count": 19,
   "id": "161987f2",
   "metadata": {
    "scrolled": true
   },
   "outputs": [
    {
     "data": {
      "text/plain": [
       "['Rs. 1199',\n",
       " 'Rs. 899',\n",
       " 'Rs. 1999',\n",
       " 'Rs. 1959',\n",
       " 'Rs. 898',\n",
       " 'Rs. 1649',\n",
       " 'Rs. 1224',\n",
       " 'Rs. 1959',\n",
       " 'Rs. 796',\n",
       " 'Rs. 1999',\n",
       " 'Rs. 1399',\n",
       " 'Rs. 2199',\n",
       " 'Rs. 9295',\n",
       " 'Rs. 681',\n",
       " 'Rs. 749',\n",
       " 'Rs. 799',\n",
       " 'Rs. 699',\n",
       " 'Rs. 1959',\n",
       " 'Rs. 815',\n",
       " 'Rs. 2049',\n",
       " 'Rs. 739',\n",
       " 'Rs. 9295',\n",
       " 'Rs. 3395',\n",
       " 'Rs. 815',\n",
       " 'Rs. 689',\n",
       " 'Rs. 2199',\n",
       " 'Rs. 1999',\n",
       " 'Rs. 899',\n",
       " 'Rs. 1749',\n",
       " 'Rs. 1999',\n",
       " 'Rs. 2149',\n",
       " 'Rs. 809',\n",
       " 'Rs. 1919',\n",
       " 'Rs. 1082',\n",
       " 'Rs. 1839',\n",
       " 'Rs. 796',\n",
       " 'Rs. 2446',\n",
       " 'Rs. 1399',\n",
       " 'Rs. 1719',\n",
       " 'Rs. 2119',\n",
       " 'Rs. 799',\n",
       " 'Rs. 974',\n",
       " 'Rs. 1199',\n",
       " 'Rs. 1699',\n",
       " 'Rs. 974',\n",
       " 'Rs. 1529',\n",
       " 'Rs. 898',\n",
       " 'Rs. 1759',\n",
       " 'Rs. 1799',\n",
       " 'Rs. 2199',\n",
       " 'Rs. 2199',\n",
       " 'Rs. 1979',\n",
       " 'Rs. 1563',\n",
       " 'Rs. 1919',\n",
       " 'Rs. 664',\n",
       " 'Rs. 1499',\n",
       " 'Rs. 999',\n",
       " 'Rs. 1499',\n",
       " 'Rs. 1719',\n",
       " 'Rs. 1574',\n",
       " 'Rs. 1649',\n",
       " 'Rs. 579',\n",
       " 'Rs. 4999',\n",
       " 'Rs. 1504',\n",
       " 'Rs. 1299',\n",
       " 'Rs. 1044',\n",
       " 'Rs. 599',\n",
       " 'Rs. 1999',\n",
       " 'Rs. 999',\n",
       " 'Rs. 1869',\n",
       " 'Rs. 749',\n",
       " 'Rs. 796',\n",
       " 'Rs. 1649',\n",
       " 'Rs. 799',\n",
       " 'Rs. 949',\n",
       " 'Rs. 796',\n",
       " 'Rs. 744',\n",
       " 'Rs. 1649',\n",
       " 'Rs. 1649',\n",
       " 'Rs. 898',\n",
       " 'Rs. 1799',\n",
       " 'Rs. 1999',\n",
       " 'Rs. 2239',\n",
       " 'Rs. 3134',\n",
       " 'Rs. 1574',\n",
       " 'Rs. 1274',\n",
       " 'Rs. 2119',\n",
       " 'Rs. 854',\n",
       " 'Rs. 1098',\n",
       " 'Rs. 996',\n",
       " 'Rs. 806',\n",
       " 'Rs. 863',\n",
       " 'Rs. 2399',\n",
       " 'Rs. 1559',\n",
       " 'Rs. 799',\n",
       " 'Rs. 1234',\n",
       " 'Rs. 4995',\n",
       " 'Rs. 1754',\n",
       " 'Rs. 1934',\n",
       " 'Rs. 796']"
      ]
     },
     "execution_count": 19,
     "metadata": {},
     "output_type": "execute_result"
    }
   ],
   "source": [
    "import re\n",
    "# for regular expression\n",
    "Clean_price = []\n",
    "for i in Price:\n",
    "    Clean_price.append(re.match(r\"(.*?Rs.*?\\d+)\", i).group())\n",
    "Clean_price\n",
    "\n",
    "#len(Clean_price)"
   ]
  },
  {
   "cell_type": "code",
   "execution_count": 20,
   "id": "d1d67364",
   "metadata": {},
   "outputs": [
    {
     "data": {
      "text/html": [
       "<div>\n",
       "<style scoped>\n",
       "    .dataframe tbody tr th:only-of-type {\n",
       "        vertical-align: middle;\n",
       "    }\n",
       "\n",
       "    .dataframe tbody tr th {\n",
       "        vertical-align: top;\n",
       "    }\n",
       "\n",
       "    .dataframe thead th {\n",
       "        text-align: right;\n",
       "    }\n",
       "</style>\n",
       "<table border=\"1\" class=\"dataframe\">\n",
       "  <thead>\n",
       "    <tr style=\"text-align: right;\">\n",
       "      <th></th>\n",
       "      <th>Brands name</th>\n",
       "      <th>Brand Description</th>\n",
       "      <th>Prices</th>\n",
       "    </tr>\n",
       "  </thead>\n",
       "  <tbody>\n",
       "    <tr>\n",
       "      <th>0</th>\n",
       "      <td>Street Style Store</td>\n",
       "      <td>Women Suede High-Top Flat Boots</td>\n",
       "      <td>Rs. 1199</td>\n",
       "    </tr>\n",
       "    <tr>\n",
       "      <th>1</th>\n",
       "      <td>Newfeel By Decathlon</td>\n",
       "      <td>Men Walking Shoes</td>\n",
       "      <td>Rs. 899</td>\n",
       "    </tr>\n",
       "    <tr>\n",
       "      <th>2</th>\n",
       "      <td>U.S. Polo Assn.</td>\n",
       "      <td>Men Walking Shoes</td>\n",
       "      <td>Rs. 1999</td>\n",
       "    </tr>\n",
       "    <tr>\n",
       "      <th>3</th>\n",
       "      <td>HRX by Hrithik Roshan</td>\n",
       "      <td>Men FlexStreet Athleisure Shoe</td>\n",
       "      <td>Rs. 1959</td>\n",
       "    </tr>\n",
       "    <tr>\n",
       "      <th>4</th>\n",
       "      <td>Mactree</td>\n",
       "      <td>Men Suede Loafers</td>\n",
       "      <td>Rs. 898</td>\n",
       "    </tr>\n",
       "    <tr>\n",
       "      <th>...</th>\n",
       "      <td>...</td>\n",
       "      <td>...</td>\n",
       "      <td>...</td>\n",
       "    </tr>\n",
       "    <tr>\n",
       "      <th>95</th>\n",
       "      <td>El Paso</td>\n",
       "      <td>Women High-Top Flat Boots</td>\n",
       "      <td>Rs. 1234</td>\n",
       "    </tr>\n",
       "    <tr>\n",
       "      <th>96</th>\n",
       "      <td>Nike</td>\n",
       "      <td>Men Court Lite 2 Tennis Shoes</td>\n",
       "      <td>Rs. 4995</td>\n",
       "    </tr>\n",
       "    <tr>\n",
       "      <th>97</th>\n",
       "      <td>Roadster</td>\n",
       "      <td>Women Sneakers</td>\n",
       "      <td>Rs. 1754</td>\n",
       "    </tr>\n",
       "    <tr>\n",
       "      <th>98</th>\n",
       "      <td>Puma</td>\n",
       "      <td>Men Colourblocked Sneakers</td>\n",
       "      <td>Rs. 1934</td>\n",
       "    </tr>\n",
       "    <tr>\n",
       "      <th>99</th>\n",
       "      <td>HIGHLANDER</td>\n",
       "      <td>Men Sneakers</td>\n",
       "      <td>Rs. 796</td>\n",
       "    </tr>\n",
       "  </tbody>\n",
       "</table>\n",
       "<p>100 rows × 3 columns</p>\n",
       "</div>"
      ],
      "text/plain": [
       "              Brands name                Brand Description    Prices\n",
       "0      Street Style Store  Women Suede High-Top Flat Boots  Rs. 1199\n",
       "1    Newfeel By Decathlon                Men Walking Shoes   Rs. 899\n",
       "2         U.S. Polo Assn.                Men Walking Shoes  Rs. 1999\n",
       "3   HRX by Hrithik Roshan   Men FlexStreet Athleisure Shoe  Rs. 1959\n",
       "4                 Mactree                Men Suede Loafers   Rs. 898\n",
       "..                    ...                              ...       ...\n",
       "95                El Paso        Women High-Top Flat Boots  Rs. 1234\n",
       "96                   Nike    Men Court Lite 2 Tennis Shoes  Rs. 4995\n",
       "97               Roadster                   Women Sneakers  Rs. 1754\n",
       "98                   Puma       Men Colourblocked Sneakers  Rs. 1934\n",
       "99             HIGHLANDER                     Men Sneakers   Rs. 796\n",
       "\n",
       "[100 rows x 3 columns]"
      ]
     },
     "execution_count": 20,
     "metadata": {},
     "output_type": "execute_result"
    }
   ],
   "source": [
    "# Creating a dataframe \n",
    "\n",
    "## getting the first 100 elements\n",
    "\n",
    "Brands = pd.DataFrame()\n",
    "\n",
    "Brands['Brands name'] = Product\n",
    "Brands['Brand Description']   = Description\n",
    "Brands['Prices'] = Clean_price\n",
    "\n",
    "\n",
    "Brands"
   ]
  },
  {
   "cell_type": "code",
   "execution_count": null,
   "id": "57f52e18",
   "metadata": {},
   "outputs": [],
   "source": []
  }
 ],
 "metadata": {
  "kernelspec": {
   "display_name": "Python 3",
   "language": "python",
   "name": "python3"
  },
  "language_info": {
   "codemirror_mode": {
    "name": "ipython",
    "version": 3
   },
   "file_extension": ".py",
   "mimetype": "text/x-python",
   "name": "python",
   "nbconvert_exporter": "python",
   "pygments_lexer": "ipython3",
   "version": "3.8.8"
  }
 },
 "nbformat": 4,
 "nbformat_minor": 5
}
