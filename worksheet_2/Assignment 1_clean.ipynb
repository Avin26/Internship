{
 "cells": [
  {
   "cell_type": "markdown",
   "id": "82120906",
   "metadata": {},
   "source": [
    "## scrape data analyst job posn in bangalore lotn.\n",
    "1. job-title\n",
    "2 job -loctn\n",
    "3 company-name\n",
    "4 experience_required\n",
    "first 10 jobs"
   ]
  },
  {
   "cell_type": "code",
   "execution_count": 1,
   "id": "4319c463",
   "metadata": {},
   "outputs": [],
   "source": [
    "# Let's import all required libraries\n",
    "import selenium\n",
    "from selenium import webdriver\n",
    "import pandas as pd\n",
    "import warnings\n",
    "warnings.filterwarnings('ignore')\n"
   ]
  },
  {
   "cell_type": "code",
   "execution_count": 2,
   "id": "a27bd5d7",
   "metadata": {},
   "outputs": [],
   "source": [
    "# Let's first connect to the web driver\n",
    "driver = webdriver.Chrome(r\"C:\\Users\\avina\\Desktop\\Web Driver\\chromedriver_win32\\chromedriver.exe\")"
   ]
  },
  {
   "cell_type": "code",
   "execution_count": 3,
   "id": "c896986d",
   "metadata": {},
   "outputs": [],
   "source": [
    "url = 'https://www.naukri.com/'\n",
    "driver.get(url)"
   ]
  },
  {
   "cell_type": "code",
   "execution_count": 4,
   "id": "05c694f6",
   "metadata": {},
   "outputs": [],
   "source": [
    "# finding web element for search job using id\n",
    "search_job = driver.find_element_by_xpath('/html/body/div/div[2]/div[3]/div/div/div[1]/div/div/div/input')\n",
    "search_job\n",
    "\n",
    "# write on search bar\n",
    "search_job.send_keys('Data Analyst')"
   ]
  },
  {
   "cell_type": "code",
   "execution_count": null,
   "id": "acb55084",
   "metadata": {},
   "outputs": [],
   "source": []
  },
  {
   "cell_type": "code",
   "execution_count": 5,
   "id": "85aa1a09",
   "metadata": {},
   "outputs": [],
   "source": [
    "# finding web element for search location bar using abssolute xpath\n",
    "search_locn = driver.find_element_by_xpath('/html/body/div/div[2]/div[3]/div/div/div[3]/div/div/div/input')\n",
    "\n"
   ]
  },
  {
   "cell_type": "code",
   "execution_count": 6,
   "id": "dc60a0ce",
   "metadata": {},
   "outputs": [],
   "source": [
    "# finding web element for job location bar\n",
    "search_locn.send_keys('Bangalore')"
   ]
  },
  {
   "cell_type": "code",
   "execution_count": null,
   "id": "b3bc9f24",
   "metadata": {},
   "outputs": [],
   "source": []
  },
  {
   "cell_type": "code",
   "execution_count": 9,
   "id": "52cab348",
   "metadata": {
    "scrolled": true
   },
   "outputs": [],
   "source": [
    "# write on search bar\n"
   ]
  },
  {
   "cell_type": "code",
   "execution_count": 10,
   "id": "30d5bcf3",
   "metadata": {},
   "outputs": [
    {
     "data": {
      "text/plain": [
       "<selenium.webdriver.remote.webelement.WebElement (session=\"a2f16c508e9ffb41219b8bdf8d262d72\", element=\"0570d4ef-9e47-4a01-acf6-486342c1696d\")>"
      ]
     },
     "execution_count": 10,
     "metadata": {},
     "output_type": "execute_result"
    }
   ],
   "source": [
    "# finding web element for search location bar using abssolute xpath\n",
    "search_locn = driver.find_element_by_xpath('/html/body/div[1]/div[3]/div[2]/section/div/form/div[2]/div/div/div/div[1]/div[2]/input')\n",
    "search_locn"
   ]
  },
  {
   "cell_type": "code",
   "execution_count": 11,
   "id": "df6f07af",
   "metadata": {},
   "outputs": [],
   "source": [
    "# finding web element for job location bar\n",
    "search_locn.send_keys('Bangalore')"
   ]
  },
  {
   "cell_type": "code",
   "execution_count": 8,
   "id": "b7af7d16",
   "metadata": {},
   "outputs": [],
   "source": [
    "search_btn = driver.find_element_by_xpath('/html/body/div/div[2]/div[3]/div/div/div[6]')"
   ]
  },
  {
   "cell_type": "code",
   "execution_count": 9,
   "id": "7c637948",
   "metadata": {},
   "outputs": [],
   "source": [
    "search_btn.click()"
   ]
  },
  {
   "cell_type": "code",
   "execution_count": 13,
   "id": "26047ceb",
   "metadata": {},
   "outputs": [],
   "source": [
    "search_btn.click()"
   ]
  },
  {
   "cell_type": "markdown",
   "id": "e06604ed",
   "metadata": {},
   "source": [
    "## Now let's first create 4 empty lists. In these lists the data will be stored while scrapping"
   ]
  },
  {
   "cell_type": "markdown",
   "id": "0b8efeeb",
   "metadata": {},
   "source": [
    "## Extracting job titles"
   ]
  },
  {
   "cell_type": "code",
   "execution_count": 10,
   "id": "bf2039eb",
   "metadata": {},
   "outputs": [
    {
     "data": {
      "text/plain": [
       "20"
      ]
     },
     "execution_count": 10,
     "metadata": {},
     "output_type": "execute_result"
    }
   ],
   "source": [
    "# Let's extract all web elements having job titles\n",
    "title_tags = driver.find_elements_by_xpath('//a[@class=\"title fw500 ellipsis\"]')\n",
    "len(title_tags)"
   ]
  },
  {
   "cell_type": "code",
   "execution_count": 11,
   "id": "4e8ff99d",
   "metadata": {},
   "outputs": [
    {
     "data": {
      "text/plain": [
       "20"
      ]
     },
     "execution_count": 11,
     "metadata": {},
     "output_type": "execute_result"
    }
   ],
   "source": [
    "# Now the text of job title is oinside the web elements extracted above\n",
    "# so we will run a for loops to iterate over the tags and will extract text from title tags\n",
    "\n",
    "job_titles = []\n",
    "\n",
    "for i in title_tags:\n",
    "    job_titles.append(i.text)\n",
    "len(job_titles)\n",
    "#job_titles[0:2]"
   ]
  },
  {
   "cell_type": "markdown",
   "id": "89c2d4b9",
   "metadata": {},
   "source": [
    "## Extracting comapny Name"
   ]
  },
  {
   "cell_type": "code",
   "execution_count": 12,
   "id": "fb1c999b",
   "metadata": {},
   "outputs": [
    {
     "data": {
      "text/plain": [
       "20"
      ]
     },
     "execution_count": 12,
     "metadata": {},
     "output_type": "execute_result"
    }
   ],
   "source": [
    "# Let's extract all web elements having company name\n",
    "company_tags = driver.find_elements_by_xpath('//a[@class=\"subTitle ellipsis fleft\"]')\n",
    "len(company_tags)"
   ]
  },
  {
   "cell_type": "code",
   "execution_count": 13,
   "id": "2e8a6800",
   "metadata": {},
   "outputs": [
    {
     "data": {
      "text/plain": [
       "20"
      ]
     },
     "execution_count": 13,
     "metadata": {},
     "output_type": "execute_result"
    }
   ],
   "source": [
    "# Geeting the company name\n",
    "\n",
    "company_titles = []\n",
    "\n",
    "for i in company_tags:\n",
    "    company_titles.append(i.text)\n",
    "len(company_titles)\n",
    "#company_titles[0:2]"
   ]
  },
  {
   "cell_type": "markdown",
   "id": "52ece859",
   "metadata": {},
   "source": [
    "## Extracting experience"
   ]
  },
  {
   "cell_type": "code",
   "execution_count": 14,
   "id": "db2c85af",
   "metadata": {},
   "outputs": [
    {
     "data": {
      "text/plain": [
       "20"
      ]
     },
     "execution_count": 14,
     "metadata": {},
     "output_type": "execute_result"
    }
   ],
   "source": [
    "## Let's extract all elements having experience using parent tag\n",
    "exp_tags = driver.find_elements_by_xpath('//li[@class=\"fleft grey-text br2 placeHolderLi experience\"]')\n",
    "len(exp_tags)"
   ]
  },
  {
   "cell_type": "code",
   "execution_count": 15,
   "id": "76629202",
   "metadata": {},
   "outputs": [
    {
     "data": {
      "text/plain": [
       "20"
      ]
     },
     "execution_count": 15,
     "metadata": {},
     "output_type": "execute_result"
    }
   ],
   "source": [
    "experience = []\n",
    "\n",
    "for i in exp_tags:\n",
    "    experience.append(i.text)\n",
    "len(experience)\n",
    "#experience[0:2]"
   ]
  },
  {
   "cell_type": "markdown",
   "id": "f1bceebf",
   "metadata": {},
   "source": [
    "## Extracting location"
   ]
  },
  {
   "cell_type": "code",
   "execution_count": 16,
   "id": "695c35a5",
   "metadata": {},
   "outputs": [
    {
     "data": {
      "text/plain": [
       "20"
      ]
     },
     "execution_count": 16,
     "metadata": {},
     "output_type": "execute_result"
    }
   ],
   "source": [
    "locn_tags = driver.find_elements_by_xpath('//li[@class=\"fleft grey-text br2 placeHolderLi location\"]')\n",
    "len(locn_tags)"
   ]
  },
  {
   "cell_type": "code",
   "execution_count": 17,
   "id": "d9ef22ce",
   "metadata": {},
   "outputs": [
    {
     "data": {
      "text/plain": [
       "20"
      ]
     },
     "execution_count": 17,
     "metadata": {},
     "output_type": "execute_result"
    }
   ],
   "source": [
    "location = []\n",
    "for i in locn_tags:\n",
    "    location.append(i.text)\n",
    "len(location)\n",
    "##location[0:2]"
   ]
  },
  {
   "cell_type": "code",
   "execution_count": 18,
   "id": "6e3852cd",
   "metadata": {},
   "outputs": [
    {
     "data": {
      "text/plain": [
       "(20, 20, 20, 20)"
      ]
     },
     "execution_count": 18,
     "metadata": {},
     "output_type": "execute_result"
    }
   ],
   "source": [
    "len(job_titles),len(company_titles),len(experience),len(location)"
   ]
  },
  {
   "cell_type": "code",
   "execution_count": 19,
   "id": "3e00bb98",
   "metadata": {
    "scrolled": true
   },
   "outputs": [
    {
     "data": {
      "text/html": [
       "<div>\n",
       "<style scoped>\n",
       "    .dataframe tbody tr th:only-of-type {\n",
       "        vertical-align: middle;\n",
       "    }\n",
       "\n",
       "    .dataframe tbody tr th {\n",
       "        vertical-align: top;\n",
       "    }\n",
       "\n",
       "    .dataframe thead th {\n",
       "        text-align: right;\n",
       "    }\n",
       "</style>\n",
       "<table border=\"1\" class=\"dataframe\">\n",
       "  <thead>\n",
       "    <tr style=\"text-align: right;\">\n",
       "      <th></th>\n",
       "      <th>Job title</th>\n",
       "      <th>Company</th>\n",
       "      <th>Experience</th>\n",
       "      <th>Location</th>\n",
       "    </tr>\n",
       "  </thead>\n",
       "  <tbody>\n",
       "    <tr>\n",
       "      <th>0</th>\n",
       "      <td>Hiring Data Analyst For Global Logic-Immediate...</td>\n",
       "      <td>GlobalLogic</td>\n",
       "      <td>4-8 Yrs</td>\n",
       "      <td>Noida, Nagpur, Pune, Gurgaon/Gurugram, Bangalo...</td>\n",
       "    </tr>\n",
       "    <tr>\n",
       "      <th>1</th>\n",
       "      <td>Senior Data Analyst</td>\n",
       "      <td>Flipkart</td>\n",
       "      <td>4-6 Yrs</td>\n",
       "      <td>Bengaluru/Bangalore</td>\n",
       "    </tr>\n",
       "    <tr>\n",
       "      <th>2</th>\n",
       "      <td>Junior Data Analyst/ Scientist- Fresher Position</td>\n",
       "      <td>Sejal Consulting Hub</td>\n",
       "      <td>0-3 Yrs</td>\n",
       "      <td>Kolkata, Gurgaon/Gurugram, Bangalore/Bengaluru...</td>\n",
       "    </tr>\n",
       "    <tr>\n",
       "      <th>3</th>\n",
       "      <td>Assistant Clinical Data Analyst</td>\n",
       "      <td>Labcorp Drug Development India Private Limited</td>\n",
       "      <td>0-2 Yrs</td>\n",
       "      <td>Bangalore/Bengaluru</td>\n",
       "    </tr>\n",
       "    <tr>\n",
       "      <th>4</th>\n",
       "      <td>Lead - Data Analyst / Scientist</td>\n",
       "      <td>Axim Technologies</td>\n",
       "      <td>12-14 Yrs</td>\n",
       "      <td>Bangalore/Bengaluru</td>\n",
       "    </tr>\n",
       "    <tr>\n",
       "      <th>5</th>\n",
       "      <td>Data Analyst / Sr. Data Analyst</td>\n",
       "      <td>Vmware</td>\n",
       "      <td>3-6 Yrs</td>\n",
       "      <td>Bangalore/Bengaluru</td>\n",
       "    </tr>\n",
       "    <tr>\n",
       "      <th>6</th>\n",
       "      <td>Senior Data Analyst - CRM</td>\n",
       "      <td>Gojek Tech</td>\n",
       "      <td>2-5 Yrs</td>\n",
       "      <td>Bangalore/Bengaluru</td>\n",
       "    </tr>\n",
       "    <tr>\n",
       "      <th>7</th>\n",
       "      <td>Senior Data Analyst - Supporting Audits</td>\n",
       "      <td>Visa</td>\n",
       "      <td>5-8 Yrs</td>\n",
       "      <td>Bangalore/Bengaluru</td>\n",
       "    </tr>\n",
       "    <tr>\n",
       "      <th>8</th>\n",
       "      <td>Research - Data Analyst / Associate</td>\n",
       "      <td>AXL HR Tech</td>\n",
       "      <td>0-2 Yrs</td>\n",
       "      <td>Mumbai, Delhi / NCR, Bangalore/Bengaluru</td>\n",
       "    </tr>\n",
       "    <tr>\n",
       "      <th>9</th>\n",
       "      <td>SAM Data Analyst</td>\n",
       "      <td>Nokia</td>\n",
       "      <td>1-2 Yrs</td>\n",
       "      <td>Noida, Mumbai, Bangalore/Bengaluru</td>\n",
       "    </tr>\n",
       "  </tbody>\n",
       "</table>\n",
       "</div>"
      ],
      "text/plain": [
       "                                           Job title  \\\n",
       "0  Hiring Data Analyst For Global Logic-Immediate...   \n",
       "1                                Senior Data Analyst   \n",
       "2   Junior Data Analyst/ Scientist- Fresher Position   \n",
       "3                    Assistant Clinical Data Analyst   \n",
       "4                    Lead - Data Analyst / Scientist   \n",
       "5                    Data Analyst / Sr. Data Analyst   \n",
       "6                          Senior Data Analyst - CRM   \n",
       "7            Senior Data Analyst - Supporting Audits   \n",
       "8                Research - Data Analyst / Associate   \n",
       "9                                   SAM Data Analyst   \n",
       "\n",
       "                                          Company Experience  \\\n",
       "0                                     GlobalLogic    4-8 Yrs   \n",
       "1                                        Flipkart    4-6 Yrs   \n",
       "2                            Sejal Consulting Hub    0-3 Yrs   \n",
       "3  Labcorp Drug Development India Private Limited    0-2 Yrs   \n",
       "4                               Axim Technologies  12-14 Yrs   \n",
       "5                                          Vmware    3-6 Yrs   \n",
       "6                                      Gojek Tech    2-5 Yrs   \n",
       "7                                            Visa    5-8 Yrs   \n",
       "8                                     AXL HR Tech    0-2 Yrs   \n",
       "9                                           Nokia    1-2 Yrs   \n",
       "\n",
       "                                            Location  \n",
       "0  Noida, Nagpur, Pune, Gurgaon/Gurugram, Bangalo...  \n",
       "1                                Bengaluru/Bangalore  \n",
       "2  Kolkata, Gurgaon/Gurugram, Bangalore/Bengaluru...  \n",
       "3                                Bangalore/Bengaluru  \n",
       "4                                Bangalore/Bengaluru  \n",
       "5                                Bangalore/Bengaluru  \n",
       "6                                Bangalore/Bengaluru  \n",
       "7                                Bangalore/Bengaluru  \n",
       "8           Mumbai, Delhi / NCR, Bangalore/Bengaluru  \n",
       "9                 Noida, Mumbai, Bangalore/Bengaluru  "
      ]
     },
     "execution_count": 19,
     "metadata": {},
     "output_type": "execute_result"
    }
   ],
   "source": [
    "## getting the first 10 elements\n",
    "\n",
    "jobs = pd.DataFrame()\n",
    "\n",
    "jobs['Job title'] = job_titles[0:10]\n",
    "jobs['Company']   = company_titles[0:10]\n",
    "jobs['Experience'] = experience[0:10]\n",
    "jobs['Location']   = location[0:10]\n",
    "\n",
    "jobs"
   ]
  }
 ],
 "metadata": {
  "kernelspec": {
   "display_name": "Python 3",
   "language": "python",
   "name": "python3"
  },
  "language_info": {
   "codemirror_mode": {
    "name": "ipython",
    "version": 3
   },
   "file_extension": ".py",
   "mimetype": "text/x-python",
   "name": "python",
   "nbconvert_exporter": "python",
   "pygments_lexer": "ipython3",
   "version": "3.8.8"
  }
 },
 "nbformat": 4,
 "nbformat_minor": 5
}
