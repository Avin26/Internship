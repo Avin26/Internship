{
 "cells": [
  {
   "cell_type": "code",
   "execution_count": null,
   "id": "7590d3b2",
   "metadata": {},
   "outputs": [],
   "source": [
    "1 a) True"
   ]
  },
  {
   "cell_type": "code",
   "execution_count": null,
   "id": "32493f01",
   "metadata": {},
   "outputs": [],
   "source": [
    "2. a) Central Limit Theorem"
   ]
  },
  {
   "cell_type": "code",
   "execution_count": null,
   "id": "4db363c9",
   "metadata": {},
   "outputs": [],
   "source": [
    "3  b) Modeling bounded count data"
   ]
  },
  {
   "cell_type": "code",
   "execution_count": null,
   "id": "e8d1dcbe",
   "metadata": {},
   "outputs": [],
   "source": [
    "4  d) All of the mentioned"
   ]
  },
  {
   "cell_type": "code",
   "execution_count": null,
   "id": "fc636309",
   "metadata": {},
   "outputs": [],
   "source": [
    "5  c) Poisson"
   ]
  },
  {
   "cell_type": "code",
   "execution_count": null,
   "id": "ed06509b",
   "metadata": {},
   "outputs": [],
   "source": [
    "6  b) False"
   ]
  },
  {
   "cell_type": "code",
   "execution_count": null,
   "id": "14bc5184",
   "metadata": {},
   "outputs": [],
   "source": [
    "7  b) Hypothesis"
   ]
  },
  {
   "cell_type": "code",
   "execution_count": null,
   "id": "8cb77243",
   "metadata": {},
   "outputs": [],
   "source": [
    "8  a) 0"
   ]
  },
  {
   "cell_type": "code",
   "execution_count": null,
   "id": "dfc7882e",
   "metadata": {},
   "outputs": [],
   "source": [
    "9  c) Outliers cannot conform to the regression relationship"
   ]
  },
  {
   "cell_type": "code",
   "execution_count": null,
   "id": "20cbc38c",
   "metadata": {},
   "outputs": [],
   "source": [
    "# Normal Distribution\n",
    "10.\n",
    "A normal distribution, sometimes called the bell curve, is a distribution that occurs naturally in many situations.\n",
    " *-The mean, mode and median are all equal.\n",
    " *-The curve is symmetric at the center (i.e. around the mean, μ).\n",
    " "
   ]
  },
  {
   "cell_type": "code",
   "execution_count": null,
   "id": "c81495d6",
   "metadata": {},
   "outputs": [],
   "source": [
    "11.\n",
    "When dealing with missing data, data scientists can use two primary methods to solve the error:\n",
    "-imputation\n",
    "-removal of data.\n",
    "\n",
    "This is one of the most common methods of imputing values when dealing with missing data.\n",
    "In cases where there are a small number of missing observations,\n",
    "data scientists can calculate the mean or median of the existing observations. \n",
    "\n",
    "In case of large number of missing observations\n"
   ]
  },
  {
   "cell_type": "code",
   "execution_count": null,
   "id": "6358101c",
   "metadata": {},
   "outputs": [],
   "source": [
    "12.\n",
    "\n",
    "A/B testing is the split testing of an altered variable, with success usually measured by user engagement or conversions.\n",
    "\n",
    "For instance, let’s say you own a company and want to increase the sales of your product.\n",
    "you may divide the products into two parts – A and B. Here A will remain unchanged while you make significant changes in B’s packaging.\n",
    "Now, on the basis of the response from customer groups who used A and B respectively, you try to decide which is performing better.\n"
   ]
  },
  {
   "cell_type": "code",
   "execution_count": null,
   "id": "343d0ae5",
   "metadata": {},
   "outputs": [],
   "source": [
    "13.\n",
    "Mean imputation is typically considered terrible practice since it ignores feature correlation.\n",
    "\n",
    "Second, mean imputation decreases the variance of our data while increasing bias.\n",
    "As a result of the reduced variance, the model is less accurate and the confidence interval is narrower."
   ]
  },
  {
   "cell_type": "code",
   "execution_count": null,
   "id": "6b825392",
   "metadata": {},
   "outputs": [],
   "source": [
    "14.\n",
    "Linear regression attempts to model the relationship between two variables by fitting a linear equation to observed data.\n",
    "One variable is considered to be an explanatory variable, and the other is considered to be a dependent variable.\n",
    "\n",
    "A linear regression line has an equation of the form Y = a + bX,\n",
    "where X is the explanatory variable and Y is the dependent variable.\n",
    "The slope of the line is b, and a is the intercept (the value of y when x = 0)."
   ]
  },
  {
   "cell_type": "code",
   "execution_count": null,
   "id": "3b604895",
   "metadata": {},
   "outputs": [],
   "source": [
    "15.\n",
    "Statistics have majorly categorised into two types:\n",
    "\n",
    "Descriptive statistics\n",
    "In this type of statistics, the data is summarised through the given observations.\n",
    "\n",
    "Inferential statistics\n",
    " the right conclusions from the statistical analysis that has been performed using descriptive statistics\n",
    "    "
   ]
  },
  {
   "cell_type": "code",
   "execution_count": null,
   "id": "f53e1f9e",
   "metadata": {},
   "outputs": [],
   "source": [
    "10"
   ]
  },
  {
   "cell_type": "code",
   "execution_count": null,
   "id": "12684693",
   "metadata": {},
   "outputs": [],
   "source": []
  },
  {
   "cell_type": "code",
   "execution_count": null,
   "id": "0d02ca0b",
   "metadata": {},
   "outputs": [],
   "source": []
  },
  {
   "cell_type": "code",
   "execution_count": null,
   "id": "8dae045c",
   "metadata": {},
   "outputs": [],
   "source": []
  }
 ],
 "metadata": {
  "kernelspec": {
   "display_name": "Python 3",
   "language": "python",
   "name": "python3"
  },
  "language_info": {
   "codemirror_mode": {
    "name": "ipython",
    "version": 3
   },
   "file_extension": ".py",
   "mimetype": "text/x-python",
   "name": "python",
   "nbconvert_exporter": "python",
   "pygments_lexer": "ipython3",
   "version": "3.8.8"
  }
 },
 "nbformat": 4,
 "nbformat_minor": 5
}
