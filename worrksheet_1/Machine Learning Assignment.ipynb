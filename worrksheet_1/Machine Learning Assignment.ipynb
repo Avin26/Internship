{
 "cells": [
  {
   "cell_type": "code",
   "execution_count": null,
   "id": "c2cc6ab0",
   "metadata": {},
   "outputs": [],
   "source": [
    "1. A) Least Square Error "
   ]
  },
  {
   "cell_type": "code",
   "execution_count": null,
   "id": "2369ce6d",
   "metadata": {},
   "outputs": [],
   "source": [
    "2. A) Linear regression is sensitive to outliers"
   ]
  },
  {
   "cell_type": "code",
   "execution_count": null,
   "id": "b33e6c77",
   "metadata": {},
   "outputs": [],
   "source": [
    "3. B) Negative"
   ]
  },
  {
   "cell_type": "code",
   "execution_count": null,
   "id": "3ae22e25",
   "metadata": {},
   "outputs": [],
   "source": [
    "4 . B) Correlation "
   ]
  },
  {
   "cell_type": "code",
   "execution_count": null,
   "id": "403f58a6",
   "metadata": {},
   "outputs": [],
   "source": [
    "5 . D) none of these"
   ]
  },
  {
   "cell_type": "code",
   "execution_count": null,
   "id": "626ffc85",
   "metadata": {},
   "outputs": [],
   "source": [
    "6"
   ]
  },
  {
   "cell_type": "code",
   "execution_count": null,
   "id": "ddd8248f",
   "metadata": {},
   "outputs": [],
   "source": [
    "7 D) Regularization"
   ]
  },
  {
   "cell_type": "code",
   "execution_count": null,
   "id": "2679c893",
   "metadata": {},
   "outputs": [],
   "source": [
    "8 D) SMOTE"
   ]
  },
  {
   "cell_type": "code",
   "execution_count": null,
   "id": "e2767b71",
   "metadata": {},
   "outputs": [],
   "source": [
    "9 A) TPR and FPR "
   ]
  },
  {
   "cell_type": "code",
   "execution_count": null,
   "id": "24c8810d",
   "metadata": {},
   "outputs": [],
   "source": [
    "10  B) False "
   ]
  },
  {
   "cell_type": "code",
   "execution_count": null,
   "id": "eaccc4d8",
   "metadata": {},
   "outputs": [],
   "source": [
    "11 A) Construction bag of words from a email "
   ]
  },
  {
   "cell_type": "code",
   "execution_count": null,
   "id": "ef18483a",
   "metadata": {},
   "outputs": [],
   "source": [
    "12 A) We don’t have to choose the learning rate.\n",
    "  B) It becomes slow when number of features is very large"
   ]
  },
  {
   "cell_type": "code",
   "execution_count": null,
   "id": "3eba78f7",
   "metadata": {},
   "outputs": [],
   "source": [
    "13\n",
    "\n",
    "This technique discourages learning a more complex or flexible model,\n",
    "so as to avoid the risk of overfitting."
   ]
  },
  {
   "cell_type": "code",
   "execution_count": null,
   "id": "bb319b9e",
   "metadata": {},
   "outputs": [],
   "source": [
    "14\n",
    "There are two main regularization techniques, namely:\n",
    "    Ridge Regression (L2 Norm)\n",
    "        When using this technique,\n",
    "        we add the sum of weight’s square to a loss function and thus create a new loss function\n",
    "    Lasso Regression (L1 Regularization)\n",
    "        It uses absolute weight values for normalization.\n",
    "    \n",
    "\n",
    "In ridge regression, loss function along with the optimization algorithm brings parameters near to zero but not actually zero,\n",
    "while lasso eliminates less important features and sets respective weight values to zero.\n",
    "        \n",
    "        "
   ]
  },
  {
   "cell_type": "code",
   "execution_count": null,
   "id": "ef374171",
   "metadata": {},
   "outputs": [],
   "source": [
    "15.\n",
    "An error term in statistics is a value which represents how observed data differs from actual population data\n",
    "\n",
    "Equation for Linear Regression:\n",
    "Y=αX+βρ+ϵ\n",
    "where:\n",
    "α,β=Constant parameters\n",
    "X,ρ=Independent variables\n",
    "ϵ=Error term\n",
    "\n",
    "\n"
   ]
  }
 ],
 "metadata": {
  "kernelspec": {
   "display_name": "Python 3",
   "language": "python",
   "name": "python3"
  },
  "language_info": {
   "codemirror_mode": {
    "name": "ipython",
    "version": 3
   },
   "file_extension": ".py",
   "mimetype": "text/x-python",
   "name": "python",
   "nbconvert_exporter": "python",
   "pygments_lexer": "ipython3",
   "version": "3.8.8"
  }
 },
 "nbformat": 4,
 "nbformat_minor": 5
}
